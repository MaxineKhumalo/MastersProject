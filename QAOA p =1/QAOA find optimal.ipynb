{
 "cells": [
  {
   "cell_type": "markdown",
   "metadata": {},
   "source": [
    "# QAOA implementation on Quantum devices v26"
   ]
  },
  {
   "cell_type": "code",
   "execution_count": 1,
   "metadata": {},
   "outputs": [
    {
     "name": "stderr",
     "output_type": "stream",
     "text": [
      "/home/maxine/Desktop/anaconda3/lib/python3.7/site-packages/sklearn/linear_model/least_angle.py:35: DeprecationWarning: `np.float` is a deprecated alias for the builtin `float`. To silence this warning, use `float` by itself. Doing this will not modify any behavior and is safe. If you specifically wanted the numpy scalar type, use `np.float64` here.\n",
      "Deprecated in NumPy 1.20; for more details and guidance: https://numpy.org/devdocs/release/1.20.0-notes.html#deprecations\n",
      "  eps=np.finfo(np.float).eps,\n",
      "/home/maxine/Desktop/anaconda3/lib/python3.7/site-packages/sklearn/linear_model/least_angle.py:597: DeprecationWarning: `np.float` is a deprecated alias for the builtin `float`. To silence this warning, use `float` by itself. Doing this will not modify any behavior and is safe. If you specifically wanted the numpy scalar type, use `np.float64` here.\n",
      "Deprecated in NumPy 1.20; for more details and guidance: https://numpy.org/devdocs/release/1.20.0-notes.html#deprecations\n",
      "  eps=np.finfo(np.float).eps, copy_X=True, fit_path=True,\n",
      "/home/maxine/Desktop/anaconda3/lib/python3.7/site-packages/sklearn/linear_model/least_angle.py:836: DeprecationWarning: `np.float` is a deprecated alias for the builtin `float`. To silence this warning, use `float` by itself. Doing this will not modify any behavior and is safe. If you specifically wanted the numpy scalar type, use `np.float64` here.\n",
      "Deprecated in NumPy 1.20; for more details and guidance: https://numpy.org/devdocs/release/1.20.0-notes.html#deprecations\n",
      "  eps=np.finfo(np.float).eps, copy_X=True, fit_path=True,\n",
      "/home/maxine/Desktop/anaconda3/lib/python3.7/site-packages/sklearn/linear_model/least_angle.py:862: DeprecationWarning: `np.float` is a deprecated alias for the builtin `float`. To silence this warning, use `float` by itself. Doing this will not modify any behavior and is safe. If you specifically wanted the numpy scalar type, use `np.float64` here.\n",
      "Deprecated in NumPy 1.20; for more details and guidance: https://numpy.org/devdocs/release/1.20.0-notes.html#deprecations\n",
      "  eps=np.finfo(np.float).eps, positive=False):\n",
      "/home/maxine/Desktop/anaconda3/lib/python3.7/site-packages/sklearn/linear_model/least_angle.py:1097: DeprecationWarning: `np.float` is a deprecated alias for the builtin `float`. To silence this warning, use `float` by itself. Doing this will not modify any behavior and is safe. If you specifically wanted the numpy scalar type, use `np.float64` here.\n",
      "Deprecated in NumPy 1.20; for more details and guidance: https://numpy.org/devdocs/release/1.20.0-notes.html#deprecations\n",
      "  max_n_alphas=1000, n_jobs=None, eps=np.finfo(np.float).eps,\n",
      "/home/maxine/Desktop/anaconda3/lib/python3.7/site-packages/sklearn/linear_model/least_angle.py:1344: DeprecationWarning: `np.float` is a deprecated alias for the builtin `float`. To silence this warning, use `float` by itself. Doing this will not modify any behavior and is safe. If you specifically wanted the numpy scalar type, use `np.float64` here.\n",
      "Deprecated in NumPy 1.20; for more details and guidance: https://numpy.org/devdocs/release/1.20.0-notes.html#deprecations\n",
      "  max_n_alphas=1000, n_jobs=None, eps=np.finfo(np.float).eps,\n",
      "/home/maxine/Desktop/anaconda3/lib/python3.7/site-packages/sklearn/linear_model/least_angle.py:1480: DeprecationWarning: `np.float` is a deprecated alias for the builtin `float`. To silence this warning, use `float` by itself. Doing this will not modify any behavior and is safe. If you specifically wanted the numpy scalar type, use `np.float64` here.\n",
      "Deprecated in NumPy 1.20; for more details and guidance: https://numpy.org/devdocs/release/1.20.0-notes.html#deprecations\n",
      "  eps=np.finfo(np.float).eps, copy_X=True, positive=False):\n",
      "/home/maxine/Desktop/anaconda3/lib/python3.7/site-packages/sklearn/linear_model/randomized_l1.py:152: DeprecationWarning: `np.float` is a deprecated alias for the builtin `float`. To silence this warning, use `float` by itself. Doing this will not modify any behavior and is safe. If you specifically wanted the numpy scalar type, use `np.float64` here.\n",
      "Deprecated in NumPy 1.20; for more details and guidance: https://numpy.org/devdocs/release/1.20.0-notes.html#deprecations\n",
      "  precompute=False, eps=np.finfo(np.float).eps,\n",
      "/home/maxine/Desktop/anaconda3/lib/python3.7/site-packages/sklearn/linear_model/randomized_l1.py:320: DeprecationWarning: `np.float` is a deprecated alias for the builtin `float`. To silence this warning, use `float` by itself. Doing this will not modify any behavior and is safe. If you specifically wanted the numpy scalar type, use `np.float64` here.\n",
      "Deprecated in NumPy 1.20; for more details and guidance: https://numpy.org/devdocs/release/1.20.0-notes.html#deprecations\n",
      "  eps=np.finfo(np.float).eps, random_state=None,\n",
      "/home/maxine/Desktop/anaconda3/lib/python3.7/site-packages/sklearn/linear_model/randomized_l1.py:580: DeprecationWarning: `np.float` is a deprecated alias for the builtin `float`. To silence this warning, use `float` by itself. Doing this will not modify any behavior and is safe. If you specifically wanted the numpy scalar type, use `np.float64` here.\n",
      "Deprecated in NumPy 1.20; for more details and guidance: https://numpy.org/devdocs/release/1.20.0-notes.html#deprecations\n",
      "  eps=4 * np.finfo(np.float).eps, n_jobs=None,\n",
      "/home/maxine/Desktop/anaconda3/lib/python3.7/site-packages/sklearn/decomposition/online_lda.py:31: DeprecationWarning: `np.float` is a deprecated alias for the builtin `float`. To silence this warning, use `float` by itself. Doing this will not modify any behavior and is safe. If you specifically wanted the numpy scalar type, use `np.float64` here.\n",
      "Deprecated in NumPy 1.20; for more details and guidance: https://numpy.org/devdocs/release/1.20.0-notes.html#deprecations\n",
      "  EPS = np.finfo(np.float).eps\n",
      "/home/maxine/Desktop/anaconda3/lib/python3.7/site-packages/qiskit/optimization/__init__.py:92: DeprecationWarning: The package qiskit.optimization is deprecated. It was moved/refactored to qiskit_optimization (pip install qiskit-optimization). For more information see <https://github.com/Qiskit/qiskit-aqua/blob/main/README.md#migration-guide>\n",
      "  warn_package('optimization', 'qiskit_optimization', 'qiskit-optimization')\n"
     ]
    }
   ],
   "source": [
    "import qiskit\n",
    "from qiskit import Aer\n",
    "#from qiskit.algorithms import QAOA\n",
    "from qiskit.aqua.algorithms import QAOA\n",
    "from qiskit.algorithms.optimizers import SPSA\n",
    "from qiskit.circuit.library import RealAmplitudes,TwoLocal\n",
    "#from qiskit.utils import QuantumInstance\n",
    "from qiskit.aqua import QuantumInstance\n",
    "\n",
    "from docplex.mp.model import Model\n",
    "from qiskit_optimization import QuadraticProgram\n",
    "from qiskit import IBMQ\n",
    "from qiskit.optimization.applications.ising import docplex\n",
    "#\n",
    "\n",
    "import logging\n",
    "import numpy as np\n",
    "import pandas as pd\n",
    "import math\n",
    "import warnings\n",
    "warnings.filterwarnings(\"ignore\", category=DeprecationWarning) "
   ]
  },
  {
   "cell_type": "markdown",
   "metadata": {},
   "source": [
    "Important prelim functions"
   ]
  },
  {
   "cell_type": "code",
   "execution_count": 2,
   "metadata": {},
   "outputs": [],
   "source": [
    "def CSVtoNumpyArray(rawdata):\n",
    "    \"\"\"\n",
    "    Input: \n",
    "    rawdata = a csv file (insert name as a string)\n",
    "\n",
    "    Output:\n",
    "    two numpy matrices in a tuple\n",
    "    \"\"\"\n",
    "    data = pd.read_csv(rawdata)  #Reads the data in as a pandas object\n",
    "    c = data.columns\n",
    "    column = int(c[0])\n",
    "    final_data1 = data.iloc[:column,:].values  #Sets data into a series of numpy arrays of strings\n",
    "    final_data2 = data.iloc[column:,:].values  #1 is for the first matrix(loc) and 2 is for the second(flow)\n",
    "    \n",
    "\n",
    "    #Forms the matrix as a numpy array (easier to work with) instead of an list of lists of strings\n",
    "    def string_to_integers(final_data):\n",
    "        matrix = []\n",
    "        for j in range(column):\n",
    "            string = final_data[j][0]\n",
    "            string2 = string.split(\" \")\n",
    "            emptyarray = []\n",
    "            for i in string2:\n",
    "                if i != '':\n",
    "                    emptyarray.append(int(i))\n",
    "            matrix.append(emptyarray)\n",
    "        npmatrix = np.array(matrix) \n",
    "        return npmatrix\n",
    "    return string_to_integers(final_data1),string_to_integers(final_data2)"
   ]
  },
  {
   "cell_type": "code",
   "execution_count": 3,
   "metadata": {},
   "outputs": [],
   "source": [
    "def qap_value(z, MatrixLoc, MatrixFlow):\n",
    "    \"\"\"Compute the TSP value of a solution.\n",
    "    Args:\n",
    "        z (list[int]): list of allocations\n",
    "        MatrixLoc (numpy array): matrix of distances\n",
    "        MatrixFlow (numpy array): matrix of flow\n",
    "    Returns:\n",
    "        float: value of the QAP\n",
    "    \"\"\"\n",
    "    matrix_length = len(MatrixLoc)\n",
    "    x = np.reshape(z, (matrix_length,matrix_length)).astype(int)\n",
    "    \n",
    "    total = 0\n",
    "    for i in range(matrix_length):\n",
    "        for j in range(matrix_length):\n",
    "            for k in range(matrix_length):\n",
    "                for p in range(matrix_length):\n",
    "                        total += MatrixLoc[i,j]* MatrixFlow[k,p]*x[i,k]*x[j,p]\n",
    "    \n",
    "    return total"
   ]
  },
  {
   "cell_type": "markdown",
   "metadata": {},
   "source": [
    "Feasibility functions"
   ]
  },
  {
   "cell_type": "code",
   "execution_count": 4,
   "metadata": {},
   "outputs": [],
   "source": [
    "def qap_feasible(x):\n",
    "    \"\"\"Check whether a solution is feasible or not.\n",
    "\n",
    "    Args:\n",
    "        x (numpy.ndarray) : binary string as numpy array.\n",
    "\n",
    "    Returns:\n",
    "        bool: feasible or not.\n",
    "    \"\"\"\n",
    "    n = int(np.sqrt(len(x)))\n",
    "    y = np.reshape(x, (n,n)).astype(int)\n",
    "   \n",
    "    for i in range(n):\n",
    "        if sum(y[i, p] for p in range(n)) != 1:\n",
    "            return False\n",
    "    for p__ in range(n):\n",
    "        if sum(y[i, p__] for i in range(n)) != 1:\n",
    "            return False\n",
    "    return True"
   ]
  },
  {
   "cell_type": "code",
   "execution_count": 5,
   "metadata": {},
   "outputs": [],
   "source": [
    "def choose_best_feasible(eigenstates):\n",
    "    \"\"\"\n",
    "    Input:\n",
    "    eigenstates = dictionary\n",
    "    \n",
    "    Output:\n",
    "    feasible binary 1D numpyarray\n",
    "    probability of this answer\n",
    "    \n",
    "    \"\"\"\n",
    "    bestinarray = sorted(eigenstates.items(), key=lambda item: item[1])[::-1]\n",
    "    feasible = False\n",
    "    counter = 0\n",
    "    total = sum(eigenstates.values())\n",
    "    \n",
    "    feasible=False\n",
    "    while feasible==False and counter<len(bestinarray):\n",
    "        #string to array\n",
    "        bestasint = np.array([0])\n",
    "        for i in bestinarray[counter][0]:\n",
    "            bestasint = np.hstack((bestasint, int(i)))\n",
    "        feasible = qap_feasible(bestasint[1:])\n",
    "        frequency = bestinarray[counter][1]\n",
    "        counter += 1\n",
    "        \n",
    "    if feasible == False:\n",
    "        return feasible\n",
    "    else:\n",
    "        return bestasint[1:], frequency/total"
   ]
  },
  {
   "cell_type": "markdown",
   "metadata": {},
   "source": [
    "## IBM device loading"
   ]
  },
  {
   "cell_type": "code",
   "execution_count": 6,
   "metadata": {},
   "outputs": [
    {
     "data": {
      "text/plain": [
       "[<AccountProvider for IBMQ(hub='ibm-q', group='open', project='main')>,\n",
       " <AccountProvider for IBMQ(hub='ibm-q-wits', group='internal', project='physics')>,\n",
       " <AccountProvider for IBMQ(hub='ibm-q-wits', group='internal', project='wits-eie')>,\n",
       " <AccountProvider for IBMQ(hub='ibm-q-wits', group='reservations', project='reservations')>]"
      ]
     },
     "execution_count": 6,
     "metadata": {},
     "output_type": "execute_result"
    }
   ],
   "source": [
    "from qiskit import IBMQ\n",
    "\n",
    "# Load account from disk\n",
    "IBMQ.load_account()\n",
    "IBMQ.providers()"
   ]
  },
  {
   "cell_type": "code",
   "execution_count": 7,
   "metadata": {},
   "outputs": [
    {
     "data": {
      "text/plain": [
       "[<IBMQSimulator('ibmq_qasm_simulator') from IBMQ(hub='ibm-q-wits', group='internal', project='physics')>,\n",
       " <IBMQBackend('ibmqx2') from IBMQ(hub='ibm-q-wits', group='internal', project='physics')>,\n",
       " <IBMQBackend('ibmq_16_melbourne') from IBMQ(hub='ibm-q-wits', group='internal', project='physics')>,\n",
       " <IBMQBackend('ibmq_armonk') from IBMQ(hub='ibm-q-wits', group='internal', project='physics')>,\n",
       " <IBMQBackend('ibmq_athens') from IBMQ(hub='ibm-q-wits', group='internal', project='physics')>,\n",
       " <IBMQBackend('ibmq_rome') from IBMQ(hub='ibm-q-wits', group='internal', project='physics')>,\n",
       " <IBMQBackend('ibmq_toronto') from IBMQ(hub='ibm-q-wits', group='internal', project='physics')>,\n",
       " <IBMQBackend('ibmq_santiago') from IBMQ(hub='ibm-q-wits', group='internal', project='physics')>,\n",
       " <IBMQBackend('ibmq_bogota') from IBMQ(hub='ibm-q-wits', group='internal', project='physics')>,\n",
       " <IBMQBackend('ibmq_manhattan') from IBMQ(hub='ibm-q-wits', group='internal', project='physics')>,\n",
       " <IBMQBackend('ibmq_casablanca') from IBMQ(hub='ibm-q-wits', group='internal', project='physics')>,\n",
       " <IBMQBackend('ibmq_sydney') from IBMQ(hub='ibm-q-wits', group='internal', project='physics')>,\n",
       " <IBMQBackend('ibmq_lima') from IBMQ(hub='ibm-q-wits', group='internal', project='physics')>,\n",
       " <IBMQBackend('ibmq_belem') from IBMQ(hub='ibm-q-wits', group='internal', project='physics')>,\n",
       " <IBMQBackend('ibmq_quito') from IBMQ(hub='ibm-q-wits', group='internal', project='physics')>,\n",
       " <IBMQBackend('ibmq_guadalupe') from IBMQ(hub='ibm-q-wits', group='internal', project='physics')>,\n",
       " <IBMQSimulator('simulator_statevector') from IBMQ(hub='ibm-q-wits', group='internal', project='physics')>,\n",
       " <IBMQSimulator('simulator_mps') from IBMQ(hub='ibm-q-wits', group='internal', project='physics')>,\n",
       " <IBMQSimulator('simulator_extended_stabilizer') from IBMQ(hub='ibm-q-wits', group='internal', project='physics')>,\n",
       " <IBMQSimulator('simulator_stabilizer') from IBMQ(hub='ibm-q-wits', group='internal', project='physics')>,\n",
       " <IBMQBackend('ibmq_jakarta') from IBMQ(hub='ibm-q-wits', group='internal', project='physics')>,\n",
       " <IBMQBackend('ibmq_manila') from IBMQ(hub='ibm-q-wits', group='internal', project='physics')>]"
      ]
     },
     "execution_count": 7,
     "metadata": {},
     "output_type": "execute_result"
    }
   ],
   "source": [
    "provider = IBMQ.get_provider(hub='ibm-q-wits',project='physics')\n",
    "provider.backends()"
   ]
  },
  {
   "cell_type": "markdown",
   "metadata": {},
   "source": [
    "## The QAOA function"
   ]
  },
  {
   "cell_type": "code",
   "execution_count": 8,
   "metadata": {},
   "outputs": [],
   "source": [
    "def testing_quantum(spsatrial, ins, backend, optimal_point, trials):\n",
    "    \"\"\"\n",
    "    Input:\n",
    "    ins: name of instance\n",
    "    backend\n",
    "    optimal_point\n",
    "    trials\n",
    "    \n",
    "    Output:\n",
    "    outmatrix : [soln,result time,eigenvector,number of spsa trials]\n",
    "    \"\"\"\n",
    "    \n",
    "    #get matrix\n",
    "    datamatrix = CSVtoNumpyArray(ins)\n",
    "    MatrixLoc = datamatrix[0]\n",
    "    MatrixFlow = datamatrix[1]\n",
    "    n = len(MatrixLoc)\n",
    "\n",
    "    # Create an instance of a model and variables.\n",
    "    thename = \"qap\" + str(n)\n",
    "    mdl = Model(name=thename)\n",
    "    x = {(i,p): mdl.binary_var(name='x_{0}_{1}'.format(i,p)) for i in range(n) for p in range(n)}\n",
    "\n",
    "    # Object function\n",
    "    qap_func = mdl.sum(MatrixLoc[i,j]* MatrixFlow[k,p]*x[i,k]*x[j,p] for i in range(n) for j in range(n) for p in range(n) for k in range(n))\n",
    "    mdl.minimize(qap_func)\n",
    "\n",
    "    # Constraints\n",
    "    for i in range(n):\n",
    "        mdl.add_constraint(mdl.sum(x[(i,p)] for p in range(n)) == 1)\n",
    "    for p in range(n):\n",
    "        mdl.add_constraint(mdl.sum(x[(i,p)] for i in range(n)) == 1)\n",
    "    print(mdl.export_to_string())\n",
    "    qubitOp_docplex, offset_docplex = docplex.get_operator(mdl) #potential error\n",
    "\n",
    "    #QAOA\n",
    "    machinesolutions = []\n",
    "    rmachinesolutions = []\n",
    "    seed = 10598\n",
    "    mod = QuadraticProgram()\n",
    "    mod.from_docplex(mdl)\n",
    "    #print(mod.export_as_lp_string())\n",
    "\n",
    "    #optimal\n",
    "    ans = np.zeros(5)\n",
    "    for i in [spsatrial]:#,10,100,1000]:\n",
    "    #try:\n",
    "        file = open(\"thirty_trials-\" + str(backend) + 'optimal' + \"-\" + str(ins) ,\"w\")\n",
    "        file.write(\"value,   feasible,   frequency, time, iteration\" + \"\\n\")\n",
    "        ans = np.zeros(5)\n",
    "        #,1000]:\n",
    "        #try:\n",
    "        spsa = SPSA(maxiter=i)\n",
    "        #Backend = Aer.get_backend('qasm_simulator')\n",
    "        Backend = provider.get_backend(backend)\n",
    "        quantum_instance = QuantumInstance(backend=Backend,seed_simulator=seed,\n",
    "                                           seed_transpiler=seed, skip_qobj_validation = False, shots = 8192)\n",
    "\n",
    "        qaoa = QAOA(qubitOp_docplex,optimizer=spsa, p=1,include_custom=True)#,initial_point = optimal_point)\n",
    "        result = qaoa.run(quantum_instance)\n",
    "        print(result['optimal_point'])\n",
    "        #print('QAOA vector:', result['eigenstate'])\n",
    "        print('QAOA time:', result['optimizer_time'])\n",
    "        print('QAOA QAP objective:', result['eigenvalue'] + offset_docplex)\n",
    "\n",
    "        n = len(list(result['eigenstate'].values()))\n",
    "        solution = np.hstack((np.array(list(result['eigenstate'].values())).reshape(n,1),np.array(list(result['eigenstate'].keys())).reshape(n,1)))\n",
    "        print(solution)\n",
    "        \n",
    "        file.write(str(result['optimal_point']))\n",
    "        \n",
    "        print(\"Iteration \"+ str(i) + \" is complete.\")\n",
    "        file.close()\n",
    "    return result['optimal_point']\n",
    "    "
   ]
  },
  {
   "cell_type": "code",
   "execution_count": 9,
   "metadata": {},
   "outputs": [],
   "source": [
    "def read_optimal(ins):\n",
    "    data = pd.read_csv(\"initial_point-\" + str(ins),header = None)\n",
    "    n = len(data[0]) - 1\n",
    "    ans = []\n",
    "    data[0][0] = data[0][0][1:]\n",
    "    data[0][n] = data[0][n][:-1]\n",
    "    for i in data[0]:\n",
    "        r = i.split(\" \")\n",
    "        for t in r:\n",
    "            if t!='':\n",
    "                ans.append(float(t))\n",
    "    return np.array(ans)"
   ]
  },
  {
   "cell_type": "markdown",
   "metadata": {},
   "source": [
    "## The results cells"
   ]
  },
  {
   "cell_type": "code",
   "execution_count": null,
   "metadata": {},
   "outputs": [],
   "source": [
    "ins = \"made5.csv\"\n",
    "import logging\n",
    "logging.basicConfig(level=logging.DEBUG) # log the steps of the algorithm and results\n",
    "import warnings\n",
    "warnings.filterwarnings(\"ignore\", category=DeprecationWarning) \n",
    "backend ='ibmq_qasm_simulator'\n",
    "optimal_point = True\n",
    "ans = testing_quantum(500,ins, backend, optimal_point, 30)"
   ]
  },
  {
   "cell_type": "code",
   "execution_count": null,
   "metadata": {},
   "outputs": [],
   "source": [
    "\"\"\"runtime\"\"\""
   ]
  },
  {
   "cell_type": "code",
   "execution_count": 14,
   "metadata": {},
   "outputs": [
    {
     "data": {
      "text/plain": [
       "{'qiskit-terra': '0.17.4', 'qiskit-aer': '0.8.2', 'qiskit-ignis': '0.6.0', 'qiskit-ibmq-provider': '0.13.1', 'qiskit-aqua': '0.9.1', 'qiskit': '0.26.2', 'qiskit-nature': '0.1.3', 'qiskit-finance': None, 'qiskit-optimization': '0.1.0', 'qiskit-machine-learning': None}"
      ]
     },
     "execution_count": 14,
     "metadata": {},
     "output_type": "execute_result"
    }
   ],
   "source": [
    "qiskit.__qiskit_version__"
   ]
  },
  {
   "cell_type": "code",
   "execution_count": null,
   "metadata": {},
   "outputs": [],
   "source": []
  }
 ],
 "metadata": {
  "kernelspec": {
   "display_name": "Python 3",
   "language": "python",
   "name": "python3"
  },
  "language_info": {
   "codemirror_mode": {
    "name": "ipython",
    "version": 3
   },
   "file_extension": ".py",
   "mimetype": "text/x-python",
   "name": "python",
   "nbconvert_exporter": "python",
   "pygments_lexer": "ipython3",
   "version": "3.7.3"
  }
 },
 "nbformat": 4,
 "nbformat_minor": 2
}
