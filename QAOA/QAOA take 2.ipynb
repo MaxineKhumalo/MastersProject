{
 "cells": [
  {
   "cell_type": "markdown",
   "metadata": {},
   "source": [
    "# QAOA gridsearch"
   ]
  },
  {
   "cell_type": "code",
   "execution_count": 1,
   "metadata": {},
   "outputs": [],
   "source": [
    "#Initialisation cell\n",
    "from docplex.mp.model import Model\n",
    "from qiskit.providers.ibmq.managed import IBMQJobManager\n",
    "\n",
    "from qiskit import BasicAer, Aer\n",
    "from qiskit.aqua.algorithms import VQE, ExactEigensolver,NumPyEigensolver,QAOA,NumPyMinimumEigensolver\n",
    "from qiskit.aqua.components.optimizers import SPSA, COBYLA,ADAM, L_BFGS_B\n",
    "from qiskit.circuit.library import RealAmplitudes #(uses CX entangling) \n",
    "from qiskit.optimization.applications.ising.common import sample_most_likely\n",
    "from qiskit.circuit.library import TwoLocal\n",
    "#from qiskit.aqua.components.variational_forms import RY\n",
    "from qiskit.aqua import QuantumInstance\n",
    "\n",
    "from qiskit.optimization import QuadraticProgram\n",
    "from qiskit.tools.visualization import plot_histogram\n",
    "from qiskit.optimization.applications.ising import docplex\n",
    "from qiskit.optimization.algorithms import MinimumEigenOptimizer,RecursiveMinimumEigenOptimizer\n",
    "\n",
    "# setup aqua logging\n",
    "import logging\n",
    "from qiskit.aqua import set_qiskit_aqua_logging\n",
    "# set_qiskit_aqua_logging(logging.DEBUG)  # choose INFO, DEBUG to see the log\n",
    "\n",
    "# useful additional packages \n",
    "import matplotlib.pyplot as plt\n",
    "import matplotlib.axes as axes\n",
    "%matplotlib inline\n",
    "import numpy as np\n",
    "import networkx as nx\n",
    "import pandas as pd\n",
    "from   matplotlib import cm\n",
    "from   matplotlib.ticker import LinearLocator, FormatStrFormatter\n",
    "%config InlineBackend.figure_format = 'svg' # Makes the images look nice\n",
    "\n",
    "# importing Qiskit\n",
    "from qiskit import QuantumRegister, ClassicalRegister, QuantumCircuit, execute\n",
    "from qiskit.providers.ibmq      import least_busy\n",
    "from qiskit.tools.monitor       import job_monitor\n",
    "from qiskit.providers.aer import QasmSimulator"
   ]
  },
  {
   "cell_type": "code",
   "execution_count": null,
   "metadata": {},
   "outputs": [],
   "source": []
  },
  {
   "cell_type": "markdown",
   "metadata": {},
   "source": [
    "Important prelim functions"
   ]
  },
  {
   "cell_type": "code",
   "execution_count": 26,
   "metadata": {},
   "outputs": [],
   "source": [
    "def CSVtoNumpyArray(rawdata):\n",
    "    \"\"\"\n",
    "    Input: \n",
    "    rawdata = a csv file (insert name as a string)\n",
    "\n",
    "    Output:\n",
    "    two numpy matrices in a tuple\n",
    "    \"\"\"\n",
    "    data = pd.read_csv(rawdata)  #Reads the data in as a pandas object\n",
    "    c = data.columns\n",
    "    column = int(c[0])\n",
    "    final_data1 = data.iloc[:column,:].values  #Sets data into a series of numpy arrays of strings\n",
    "    final_data2 = data.iloc[column:,:].values  #1 is for the first matrix(loc) and 2 is for the second(flow)\n",
    "    \n",
    "\n",
    "    #Forms the matrix as a numpy array (easier to work with) instead of an list of lists of strings\n",
    "    def string_to_integers(final_data):\n",
    "        matrix = []\n",
    "        for j in range(column):\n",
    "            string = final_data[j][0]\n",
    "            string2 = string.split(\" \")\n",
    "            emptyarray = []\n",
    "            for i in string2:\n",
    "                if i != '':\n",
    "                    emptyarray.append(int(i))\n",
    "            matrix.append(emptyarray)\n",
    "        npmatrix = np.array(matrix) \n",
    "        return npmatrix\n",
    "    return string_to_integers(final_data1),string_to_integers(final_data2)"
   ]
  },
  {
   "cell_type": "code",
   "execution_count": 27,
   "metadata": {},
   "outputs": [],
   "source": [
    "def qap_value(z, MatrixLoc, MatrixFlow):\n",
    "    \"\"\"Compute the TSP value of a solution.\n",
    "    Args:\n",
    "        z (list[int]): list of allocations\n",
    "        MatrixLoc (numpy array): matrix of distances\n",
    "        MatrixFlow (numpy array): matrix of flow\n",
    "    Returns:\n",
    "        float: value of the QAP\n",
    "    \"\"\"\n",
    "    matrix_length = len(MatrixLoc)\n",
    "    x = np.reshape(z, (matrix_length,matrix_length))\n",
    "    \n",
    "    total = 0\n",
    "    for i in range(matrix_length):\n",
    "        for j in range(matrix_length):\n",
    "            for k in range(matrix_length):\n",
    "                for p in range(matrix_length):\n",
    "                        total += MatrixLoc[i,j]* MatrixFlow[k,p]*x[i,k]*x[j,p]\n",
    "    \n",
    "    return total"
   ]
  },
  {
   "cell_type": "markdown",
   "metadata": {},
   "source": [
    "Feasibility functions"
   ]
  },
  {
   "cell_type": "code",
   "execution_count": 28,
   "metadata": {},
   "outputs": [],
   "source": [
    "def qap_feasible(x):\n",
    "    \"\"\"Check whether a solution is feasible or not.\n",
    "\n",
    "    Args:\n",
    "        x (numpy.ndarray) : binary string as numpy array.\n",
    "\n",
    "    Returns:\n",
    "        bool: feasible or not.\n",
    "    \"\"\"\n",
    "    n = int(np.sqrt(len(x)))\n",
    "    y = np.reshape(x, (n,n))\n",
    "   \n",
    "    for i in range(n):\n",
    "        if sum(y[i, p] for p in range(n)) != 1:\n",
    "            return False\n",
    "    for p__ in range(n):\n",
    "        if sum(y[i, p__] for i in range(n)) != 1:\n",
    "            return False\n",
    "    return True"
   ]
  },
  {
   "cell_type": "code",
   "execution_count": 29,
   "metadata": {},
   "outputs": [],
   "source": [
    "def choose_best_feasible(eigenstates):\n",
    "    \"\"\"\n",
    "    Input:\n",
    "    eigenstates = dictionary\n",
    "    \n",
    "    Output:\n",
    "    feasible binary 1D numpyarray\n",
    "    probability of this answer\n",
    "    \n",
    "    \"\"\"\n",
    "    bestinarray = sorted(eigenstates.items(), key=lambda item: item[1])[::-1]\n",
    "    feasible = False\n",
    "    counter = 0\n",
    "    total = sum(eigenstates.values())\n",
    "    \n",
    "    feasible=False\n",
    "    while feasible==False and counter<len(bestinarray):\n",
    "        #string to array\n",
    "        bestasint = np.array([0])\n",
    "        for i in bestinarray[counter][0]:\n",
    "            bestasint = np.hstack((bestasint, int(i)))\n",
    "        feasible = qap_feasible(bestasint[1:])\n",
    "        frequency = bestinarray[counter][1]\n",
    "        counter += 1\n",
    "        \n",
    "    if feasible == False:\n",
    "        return feasible\n",
    "    else:\n",
    "        return bestasint[1:], frequency/total"
   ]
  },
  {
   "cell_type": "markdown",
   "metadata": {},
   "source": [
    "## The QAOA function"
   ]
  },
  {
   "cell_type": "code",
   "execution_count": 30,
   "metadata": {},
   "outputs": [],
   "source": [
    "def testing_quantum(ins, start, stop, step):\n",
    "    \"\"\"\n",
    "    Input:\n",
    "    ins: name of instance\n",
    "    start\n",
    "    stop\n",
    "    step\n",
    "    \n",
    "    Output:\n",
    "    outmatrix : [soln,result time,eigenvector,number of spsa trials]\n",
    "    \"\"\"\n",
    "    \n",
    "    #get matrix\n",
    "    datamatrix = CSVtoNumpyArray(ins)\n",
    "    MatrixLoc = datamatrix[0]\n",
    "    MatrixFlow = datamatrix[1]\n",
    "    n = len(MatrixLoc)\n",
    "\n",
    "    # Create an instance of a model and variables.\n",
    "    thename = \"qap\" + str(n)\n",
    "    mdl = Model(name=thename)\n",
    "    x = {(i,p): mdl.binary_var(name='x_{0}_{1}'.format(i,p)) for i in range(n) for p in range(n)}\n",
    "\n",
    "    # Object function\n",
    "    qap_func = mdl.sum(MatrixLoc[i,j]* MatrixFlow[k,p]*x[i,k]*x[j,p] for i in range(n) for j in range(n) for p in range(n) for k in range(n))\n",
    "    mdl.minimize(qap_func)\n",
    "\n",
    "    # Constraints\n",
    "    for i in range(n):\n",
    "        mdl.add_constraint(mdl.sum(x[(i,p)] for p in range(n)) == 1)\n",
    "    for p in range(n):\n",
    "        mdl.add_constraint(mdl.sum(x[(i,p)] for i in range(n)) == 1)\n",
    "    print(mdl.export_to_string())\n",
    "    qubitOp_docplex, offset_docplex = docplex.get_operator(mdl) #potential error\n",
    "\n",
    "    #QAOA\n",
    "    machinesolutions = []\n",
    "    rmachinesolutions = []\n",
    "    seed = 10598\n",
    "    mod = QuadraticProgram()\n",
    "    mod.from_docplex(mdl)\n",
    "    #print(mod.export_as_lp_string())\n",
    "\n",
    "    for i in range(start,stop,step):\n",
    "        for j in range(5,6,1):\n",
    "            #spsa = L_BFGS_B(maxiter=i)\n",
    "            spsa = SPSA(maxiter=i)\n",
    "            sim = Aer.get_backend('qasm_simulator')\n",
    "            #sim = QasmSimulator()\n",
    "            backend_options = {\"method\": \"matrix_product_state\"}\n",
    "            quantum_instance = QuantumInstance(backend=sim,seed_simulator=seed,\n",
    "                                               seed_transpiler=seed, skip_qobj_validation = False, shots = 1,\n",
    "                                               backend_options=backend_options)\n",
    "\n",
    "            #qaoa = QAOA(qubitOp_docplex,optimizer=spsa, p=j, quantum_instance=quantum_instance,include_custom=True)\n",
    "            #result = qaoa.run(backend=Aer.get_backend('qasm_simulator'))\n",
    "            \n",
    "            qaoa_mes = QAOA(quantum_instance=quantum_instance, include_custom=True, optimizer=spsa,p=j)\n",
    "            exact_mes = NumPyMinimumEigensolver()\n",
    "            qaoa = MinimumEigenOptimizer(qaoa_mes)\n",
    "            exact = MinimumEigenOptimizer(exact_mes) \n",
    "            rqaoa = RecursiveMinimumEigenOptimizer(min_eigen_optimizer=qaoa, min_num_vars=1, min_num_vars_optimizer=exact)\n",
    "            rqaoa_result = rqaoa.solve(mod)\n",
    "            print(rqaoa_result)\n",
    "            qaoa_result = qaoa.solve(mod)\n",
    "            print(qaoa_result)\n",
    "            #print('QAOA vector:', qaoa_result['eigenstate'])\n",
    "            print('QAOA vector:', qaoa_result.x)\n",
    "            print('RQAOA vector:', rqaoa_result.x)\n",
    "            #print('QAOA time:', qaoa_result['optimizer_time'])\n",
    "            #print('QAOA QAP objective:', qaoa_result['eigenvalue'] + offset_docplex)\n",
    "            #x = choose_best_feasible(qaoa_result['eigenstate'])\n",
    "            #print(x,i,j)\n",
    "            x = qap_feasible(qaoa_result.x)\n",
    "            print(x,i,j)\n",
    "            rx = qap_feasible(rqaoa_result.x)\n",
    "            print(rx,i,j)\n",
    "            if x == False:\n",
    "                soln = 'No solution' #note fails if false\n",
    "            else:\n",
    "                #soln = qap_value(x[0],MatrixFlow,MatrixLoc) #note fails if false\n",
    "                soln = qap_value(x,MatrixFlow,MatrixLoc) #note fails if false\n",
    "            if rx == False:\n",
    "                rsoln = 'No solution' #note fails if false\n",
    "            else:\n",
    "                #soln = qap_value(x[0],MatrixFlow,MatrixLoc) #note fails if false\n",
    "                rsoln = qap_value(rx,MatrixFlow,MatrixLoc) #note fails if false\n",
    "            machinesolutions.append([soln,x,i])\n",
    "            rmachinesolutions.append([rsoln,rx,i])\n",
    "            #machinesolutions.append([soln,qaoa_result['optimizer_time'],x,i])\n",
    "    print(machinesolutions)\n",
    "    print(rmachinesolutions)\n",
    "    return qaoa_result#machinesolutions\n",
    "    "
   ]
  },
  {
   "cell_type": "code",
   "execution_count": 31,
   "metadata": {},
   "outputs": [
    {
     "name": "stdout",
     "output_type": "stream",
     "text": [
      "\\ This file has been generated by DOcplex\n",
      "\\ ENCODING=ISO-8859-1\n",
      "\\Problem name: qap3\n",
      "\n",
      "Minimize\n",
      " obj: [ 4704 x_0_0*x_1_1 + 3444 x_0_0*x_1_2 + 21280 x_0_0*x_2_1\n",
      "      + 15580 x_0_0*x_2_2 + 4704 x_0_1*x_1_0 + 504 x_0_1*x_1_2\n",
      "      + 21280 x_0_1*x_2_0 + 2280 x_0_1*x_2_2 + 3444 x_0_2*x_1_0\n",
      "      + 504 x_0_2*x_1_1 + 15580 x_0_2*x_2_0 + 2280 x_0_2*x_2_1\n",
      "      + 18368 x_1_0*x_2_1 + 13448 x_1_0*x_2_2 + 18368 x_1_1*x_2_0\n",
      "      + 1968 x_1_1*x_2_2 + 13448 x_1_2*x_2_0 + 1968 x_1_2*x_2_1 ]/2\n",
      "Subject To\n",
      " c1: x_0_0 + x_0_1 + x_0_2 = 1\n",
      " c2: x_1_0 + x_1_1 + x_1_2 = 1\n",
      " c3: x_2_0 + x_2_1 + x_2_2 = 1\n",
      " c4: x_0_0 + x_1_0 + x_2_0 = 1\n",
      " c5: x_0_1 + x_1_1 + x_2_1 = 1\n",
      " c6: x_0_2 + x_1_2 + x_2_2 = 1\n",
      "\n",
      "Bounds\n",
      " 0 <= x_0_0 <= 1\n",
      " 0 <= x_0_1 <= 1\n",
      " 0 <= x_0_2 <= 1\n",
      " 0 <= x_1_0 <= 1\n",
      " 0 <= x_1_1 <= 1\n",
      " 0 <= x_1_2 <= 1\n",
      " 0 <= x_2_0 <= 1\n",
      " 0 <= x_2_1 <= 1\n",
      " 0 <= x_2_2 <= 1\n",
      "\n",
      "Binaries\n",
      " x_0_0 x_0_1 x_0_2 x_1_0 x_1_1 x_1_2 x_2_0 x_2_1 x_2_2\n",
      "End\n",
      "\n"
     ]
    },
    {
     "name": "stderr",
     "output_type": "stream",
     "text": [
      "constraint c1 is infeasible due to substitution\n",
      "constraint c2 is infeasible due to substitution\n",
      "constraint c3 is infeasible due to substitution\n",
      "constraint c4 is infeasible due to substitution\n"
     ]
    },
    {
     "name": "stdout",
     "output_type": "stream",
     "text": [
      "optimal function value: 1140.0\n",
      "optimal value: [0. 1. 0. 0. 0. 0. 0. 1. 1.]\n",
      "status: SUCCESS\n"
     ]
    },
    {
     "name": "stderr",
     "output_type": "stream",
     "text": [
      "constraint c0 is infeasible due to substitution\n",
      "constraint c1 is infeasible due to substitution\n",
      "constraint c2 is infeasible due to substitution\n",
      "constraint c4 is infeasible due to substitution\n",
      "constraint c5 is infeasible due to substitution\n"
     ]
    },
    {
     "name": "stdout",
     "output_type": "stream",
     "text": [
      "optimal function value: 24734.0\n",
      "optimal value: [0. 1. 1. 1. 1. 1. 0. 1. 1.]\n",
      "status: SUCCESS\n",
      "QAOA vector: [0. 1. 1. 1. 1. 1. 0. 1. 1.]\n",
      "RQAOA vector: [0. 1. 0. 0. 0. 0. 0. 1. 1.]\n",
      "False 1000 5\n",
      "False 1000 5\n",
      "[['No solution', False, 1000]]\n",
      "[['No solution', False, 1000]]\n"
     ]
    }
   ],
   "source": [
    "ins = \"made3.csv\"\n",
    "start = 1000\n",
    "stop = 2000\n",
    "step = 1000\n",
    "ans = testing_quantum(ins, start, stop, step)"
   ]
  },
  {
   "cell_type": "code",
   "execution_count": 53,
   "metadata": {},
   "outputs": [
    {
     "data": {
      "text/plain": [
       "qiskit.optimization.algorithms.minimum_eigen_optimizer.MinimumEigenOptimizerResult"
      ]
     },
     "execution_count": 53,
     "metadata": {},
     "output_type": "execute_result"
    }
   ],
   "source": [
    "type(ans)"
   ]
  },
  {
   "cell_type": "code",
   "execution_count": null,
   "metadata": {},
   "outputs": [],
   "source": [
    "problem = QuadraticProgram(qubitOp_docplex)\n",
    "spsa = SPSA(maxiter=i)\n",
    "sim = Aer.get_backend(machine)\n",
    "#sim = QasmSimulator()\n",
    "backend_options = {\"method\": \"matrix_product_state\"}\n",
    "quantum_instance = QuantumInstance(backend=sim,seed_simulator=seed,\n",
    "                                   seed_transpiler=seed, skip_qobj_validation = False, shots = 1,\n",
    "                                   backend_options=backend_options)\n",
    "\n",
    "qaoa = QAOA(qubitOp_docplex,optimizer=spsa, p=j, quantum_instance=quantum_instance,include_custom=True)\n",
    "\n",
    "result = qaoa.run(backend=Aer.get_backend('qasm_simulator'))"
   ]
  },
  {
   "cell_type": "code",
   "execution_count": 11,
   "metadata": {},
   "outputs": [
    {
     "name": "stdout",
     "output_type": "stream",
     "text": [
      "Help on class MinimumEigenOptimizerResult in module qiskit.optimization.algorithms.minimum_eigen_optimizer:\n",
      "\n",
      "class MinimumEigenOptimizerResult(qiskit.optimization.algorithms.optimization_algorithm.OptimizationResult)\n",
      " |  MinimumEigenOptimizerResult(x: Union[List[float], numpy.ndarray], fval: float, variables: List[qiskit.optimization.problems.variable.Variable], samples: List[Tuple[str, float, float]], qubo_converter: qiskit.optimization.converters.quadratic_program_to_qubo.QuadraticProgramToQubo) -> None\n",
      " |  \n",
      " |  Minimum Eigen Optimizer Result.\n",
      " |  \n",
      " |  Method resolution order:\n",
      " |      MinimumEigenOptimizerResult\n",
      " |      qiskit.optimization.algorithms.optimization_algorithm.OptimizationResult\n",
      " |      builtins.object\n",
      " |  \n",
      " |  Methods defined here:\n",
      " |  \n",
      " |  __init__(self, x: Union[List[float], numpy.ndarray], fval: float, variables: List[qiskit.optimization.problems.variable.Variable], samples: List[Tuple[str, float, float]], qubo_converter: qiskit.optimization.converters.quadratic_program_to_qubo.QuadraticProgramToQubo) -> None\n",
      " |      Args:\n",
      " |          x: the optimal value found by ``MinimumEigensolver``.\n",
      " |          fval: the optimal function value.\n",
      " |          variables: the list of variables of the optimization problem.\n",
      " |          samples: the basis state as bitstring, the QUBO value, and the probability of sampling.\n",
      " |          qubo_converter: ``QuadraticProgram`` to QUBO converter.\n",
      " |  \n",
      " |  get_correlations(self) -> numpy.ndarray\n",
      " |      get <Zi x Zj> correlation matrix from samples\n",
      " |  \n",
      " |  ----------------------------------------------------------------------\n",
      " |  Data descriptors defined here:\n",
      " |  \n",
      " |  samples\n",
      " |      returns samples\n",
      " |  \n",
      " |  ----------------------------------------------------------------------\n",
      " |  Methods inherited from qiskit.optimization.algorithms.optimization_algorithm.OptimizationResult:\n",
      " |  \n",
      " |  __getitem__(self, key: Union[int, str]) -> float\n",
      " |      Returns the value of the variable whose index or name is equal to ``key``.\n",
      " |      \n",
      " |      The key can be an integer or a string.\n",
      " |      If the key is an integer, this methods returns the value of the variable\n",
      " |      whose index is equal to ``key``.\n",
      " |      If the key is a string, this methods return the value of the variable\n",
      " |      whose name is equal to ``key``.\n",
      " |      \n",
      " |      Args:\n",
      " |          key: an integer or a string.\n",
      " |      \n",
      " |      Returns:\n",
      " |          The value of a variable whose index or name is equal to ``key``.\n",
      " |      \n",
      " |      Raises:\n",
      " |          IndexError: if ``key`` is an integer and is out of range of the variables.\n",
      " |          KeyError: if ``key`` is a string and none of the variables has ``key`` as name.\n",
      " |          TypeError: if ``key`` is neither an integer nor a string.\n",
      " |  \n",
      " |  __repr__(self) -> str\n",
      " |      Return repr(self).\n",
      " |  \n",
      " |  ----------------------------------------------------------------------\n",
      " |  Data descriptors inherited from qiskit.optimization.algorithms.optimization_algorithm.OptimizationResult:\n",
      " |  \n",
      " |  __dict__\n",
      " |      dictionary for instance variables (if defined)\n",
      " |  \n",
      " |  __weakref__\n",
      " |      list of weak references to the object (if defined)\n",
      " |  \n",
      " |  fval\n",
      " |      Returns the optimal function value.\n",
      " |      \n",
      " |      Returns:\n",
      " |          The function value corresponding to the optimal value found in the optimization.\n",
      " |  \n",
      " |  raw_results\n",
      " |      Return the original results object from the optimization algorithm.\n",
      " |      \n",
      " |      Currently a dump for any leftovers.\n",
      " |      \n",
      " |      Returns:\n",
      " |          Additional result information of the optimization algorithm.\n",
      " |  \n",
      " |  status\n",
      " |      Returns the termination status of the optimization algorithm.\n",
      " |      \n",
      " |      Returns:\n",
      " |          The termination status of the algorithm.\n",
      " |  \n",
      " |  variable_names\n",
      " |      Returns the list of variable names of the optimization problem.\n",
      " |      \n",
      " |      Returns:\n",
      " |          The list of variable names of the optimization problem.\n",
      " |  \n",
      " |  variables\n",
      " |      Returns the list of variables of the optimization problem.\n",
      " |      \n",
      " |      Returns:\n",
      " |          The list of variables.\n",
      " |  \n",
      " |  variables_dict\n",
      " |      Returns the optimal value as a dictionary of the variable name and corresponding value.\n",
      " |      \n",
      " |      Returns:\n",
      " |          The optimal value as a dictionary of the variable name and corresponding value.\n",
      " |  \n",
      " |  x\n",
      " |      Returns the optimal value found in the optimization.\n",
      " |      \n",
      " |      Returns:\n",
      " |          The optimal value found in the optimization.\n",
      "\n"
     ]
    }
   ],
   "source": [
    "import qiskit\n",
    "help(qiskit.optimization.algorithms.minimum_eigen_optimizer.MinimumEigenOptimizerResult)"
   ]
  },
  {
   "cell_type": "code",
   "execution_count": 14,
   "metadata": {},
   "outputs": [
    {
     "data": {
      "text/plain": [
       "optimal function value: 24734.0\n",
       "optimal value: [0. 1. 1. 1. 1. 1. 0. 1. 1.]\n",
       "status: SUCCESS"
      ]
     },
     "execution_count": 14,
     "metadata": {},
     "output_type": "execute_result"
    }
   ],
   "source": [
    "theeeeans = ans\n",
    "theeeeans"
   ]
  },
  {
   "cell_type": "code",
   "execution_count": 4,
   "metadata": {},
   "outputs": [
    {
     "data": {
      "text/plain": [
       "{'qiskit-terra': '0.16.2',\n",
       " 'qiskit-aer': '0.7.3',\n",
       " 'qiskit-ignis': '0.5.1',\n",
       " 'qiskit-ibmq-provider': '0.11.1',\n",
       " 'qiskit-aqua': '0.8.1',\n",
       " 'qiskit': '0.23.3'}"
      ]
     },
     "execution_count": 4,
     "metadata": {},
     "output_type": "execute_result"
    }
   ],
   "source": [
    "import qiskit\n",
    "qiskit.__qiskit_version__"
   ]
  },
  {
   "cell_type": "code",
   "execution_count": 7,
   "metadata": {},
   "outputs": [
    {
     "name": "stderr",
     "output_type": "stream",
     "text": [
      "C:\\Users\\Admin\\Anaconda3\\lib\\site-packages\\qiskit\\providers\\ibmq\\ibmqfactory.py:192: UserWarning: Timestamps in IBMQ backend properties, jobs, and job results are all now in local time instead of UTC.\n",
      "  warnings.warn('Timestamps in IBMQ backend properties, jobs, and job results '\n"
     ]
    },
    {
     "ename": "AttributeError",
     "evalue": "'AccountProvider' object has no attribute 'backend'",
     "output_type": "error",
     "traceback": [
      "\u001b[1;31m---------------------------------------------------------------------------\u001b[0m",
      "\u001b[1;31mAttributeError\u001b[0m                            Traceback (most recent call last)",
      "\u001b[1;32m<ipython-input-7-2ab119acfb5b>\u001b[0m in \u001b[0;36m<module>\u001b[1;34m\u001b[0m\n\u001b[0;32m      4\u001b[0m \u001b[0mprovider\u001b[0m \u001b[1;33m=\u001b[0m \u001b[0mIBMQ\u001b[0m\u001b[1;33m.\u001b[0m\u001b[0mget_provider\u001b[0m\u001b[1;33m(\u001b[0m\u001b[0mhub\u001b[0m\u001b[1;33m=\u001b[0m\u001b[1;34m'ibm-q-wits'\u001b[0m\u001b[1;33m,\u001b[0m\u001b[0mproject\u001b[0m\u001b[1;33m=\u001b[0m\u001b[1;34m'physics'\u001b[0m\u001b[1;33m)\u001b[0m\u001b[1;33m\u001b[0m\u001b[1;33m\u001b[0m\u001b[0m\n\u001b[0;32m      5\u001b[0m \u001b[0mprovider\u001b[0m\u001b[1;33m.\u001b[0m\u001b[0mbackends\u001b[0m\u001b[1;33m(\u001b[0m\u001b[1;33m)\u001b[0m\u001b[1;33m\u001b[0m\u001b[1;33m\u001b[0m\u001b[0m\n\u001b[1;32m----> 6\u001b[1;33m \u001b[0mprovider\u001b[0m\u001b[1;33m.\u001b[0m\u001b[0mbackend\u001b[0m\u001b[1;33m.\u001b[0m\u001b[0mjobs\u001b[0m\u001b[1;33m(\u001b[0m\u001b[0mbackend_name\u001b[0m\u001b[1;33m=\u001b[0m\u001b[0mibmq_boeblingen\u001b[0m\u001b[1;33m)\u001b[0m\u001b[1;33m\u001b[0m\u001b[1;33m\u001b[0m\u001b[0m\n\u001b[0m\u001b[0;32m      7\u001b[0m \u001b[0mjob\u001b[0m\u001b[1;33m.\u001b[0m\u001b[0mproperties\u001b[0m\u001b[1;33m(\u001b[0m\u001b[1;33m)\u001b[0m\u001b[1;33m\u001b[0m\u001b[1;33m\u001b[0m\u001b[0m\n",
      "\u001b[1;31mAttributeError\u001b[0m: 'AccountProvider' object has no attribute 'backend'"
     ]
    }
   ],
   "source": [
    "from qiskit import IBMQ\n",
    "IBMQ.load_account()\n",
    "IBMQ.providers()\n",
    "provider = IBMQ.get_provider(hub='ibm-q-wits',project='physics')\n",
    "provider.backends()\n",
    "provider.backend.jobs(backend_name=ibmq_boeblingen)\n",
    "job.properties()"
   ]
  },
  {
   "cell_type": "code",
   "execution_count": 8,
   "metadata": {},
   "outputs": [
    {
     "name": "stdout",
     "output_type": "stream",
     "text": [
      "{'backend_name': 'alt_boeblingen', 'backend_version': '1.1.2', 'last_update_date': datetime.datetime(2020, 7, 16, 9, 31, 10, tzinfo=tzutc()), 'qubits': [[{'date': '2020-07-16T08:23:39+00:00', 'name': 'T1', 'unit': 'µs', 'value': 73.93949850765505}, {'date': '2020-07-16T08:24:23+00:00', 'name': 'T2', 'unit': 'µs', 'value': 123.86451996423287}, {'date': '2020-07-16T09:31:10+00:00', 'name': 'frequency', 'unit': 'GHz', 'value': 5.046628190712466}, {'date': '2020-07-16T08:23:05+00:00', 'name': 'readout_error', 'unit': '', 'value': 0.026666666666666616}, {'date': '2020-07-16T08:23:05+00:00', 'name': 'prob_meas0_prep1', 'unit': '', 'value': 0.046666666666666634}, {'date': '2020-07-16T08:23:05+00:00', 'name': 'prob_meas1_prep0', 'unit': '', 'value': 0.006666666666666667}], [{'date': '2020-07-16T08:23:39+00:00', 'name': 'T1', 'unit': 'µs', 'value': 35.20334130966316}, {'date': '2020-07-16T08:25:01+00:00', 'name': 'T2', 'unit': 'µs', 'value': 75.89467723515469}, {'date': '2020-07-16T09:31:10+00:00', 'name': 'frequency', 'unit': 'GHz', 'value': 4.846752791428087}, {'date': '2020-07-16T08:23:05+00:00', 'name': 'readout_error', 'unit': '', 'value': 0.03166666666666673}, {'date': '2020-07-16T08:23:05+00:00', 'name': 'prob_meas0_prep1', 'unit': '', 'value': 0.030000000000000027}, {'date': '2020-07-16T08:23:05+00:00', 'name': 'prob_meas1_prep0', 'unit': '', 'value': 0.03333333333333333}], [{'date': '2020-07-16T08:23:39+00:00', 'name': 'T1', 'unit': 'µs', 'value': 125.14325220586959}, {'date': '2020-07-16T08:24:23+00:00', 'name': 'T2', 'unit': 'µs', 'value': 113.19870949291837}, {'date': '2020-07-16T09:31:10+00:00', 'name': 'frequency', 'unit': 'GHz', 'value': 4.703548431335246}, {'date': '2020-07-16T08:23:05+00:00', 'name': 'readout_error', 'unit': '', 'value': 0.17833333333333334}, {'date': '2020-07-16T08:23:05+00:00', 'name': 'prob_meas0_prep1', 'unit': '', 'value': 0.046666666666666634}, {'date': '2020-07-16T08:23:05+00:00', 'name': 'prob_meas1_prep0', 'unit': '', 'value': 0.31}], [{'date': '2020-07-16T08:23:39+00:00', 'name': 'T1', 'unit': 'µs', 'value': 114.79506685366708}, {'date': '2020-07-16T08:25:01+00:00', 'name': 'T2', 'unit': 'µs', 'value': 50.3192061968856}, {'date': '2020-07-16T09:31:10+00:00', 'name': 'frequency', 'unit': 'GHz', 'value': 4.774261976397847}, {'date': '2020-07-16T08:23:05+00:00', 'name': 'readout_error', 'unit': '', 'value': 0.023333333333333317}, {'date': '2020-07-16T08:23:05+00:00', 'name': 'prob_meas0_prep1', 'unit': '', 'value': 0.036666666666666625}, {'date': '2020-07-16T08:23:05+00:00', 'name': 'prob_meas1_prep0', 'unit': '', 'value': 0.01}], [{'date': '2020-07-16T08:23:39+00:00', 'name': 'T1', 'unit': 'µs', 'value': 105.05334093754578}, {'date': '2020-07-16T08:24:23+00:00', 'name': 'T2', 'unit': 'µs', 'value': 142.96375592037913}, {'date': '2020-07-16T09:31:10+00:00', 'name': 'frequency', 'unit': 'GHz', 'value': 4.366094752583585}, {'date': '2020-07-16T08:23:05+00:00', 'name': 'readout_error', 'unit': '', 'value': 0.02833333333333332}, {'date': '2020-07-16T08:23:05+00:00', 'name': 'prob_meas0_prep1', 'unit': '', 'value': 0.043333333333333335}, {'date': '2020-07-16T08:23:05+00:00', 'name': 'prob_meas1_prep0', 'unit': '', 'value': 0.013333333333333334}], [{'date': '2020-07-16T08:23:39+00:00', 'name': 'T1', 'unit': 'µs', 'value': 17.964481277676878}, {'date': '2020-07-16T08:24:23+00:00', 'name': 'T2', 'unit': 'µs', 'value': 24.392039255944205}, {'date': '2020-07-16T09:31:10+00:00', 'name': 'frequency', 'unit': 'GHz', 'value': 4.910795097600986}, {'date': '2020-07-16T08:23:05+00:00', 'name': 'readout_error', 'unit': '', 'value': 0.046666666666666634}, {'date': '2020-07-16T08:23:05+00:00', 'name': 'prob_meas0_prep1', 'unit': '', 'value': 0.07999999999999996}, {'date': '2020-07-16T08:23:05+00:00', 'name': 'prob_meas1_prep0', 'unit': '', 'value': 0.013333333333333334}], [{'date': '2020-07-16T08:23:39+00:00', 'name': 'T1', 'unit': 'µs', 'value': 71.1908780892538}, {'date': '2020-07-16T08:25:37+00:00', 'name': 'T2', 'unit': 'µs', 'value': 71.74538333422349}, {'date': '2020-07-16T09:31:10+00:00', 'name': 'frequency', 'unit': 'GHz', 'value': 4.727800054153483}, {'date': '2020-07-16T08:23:05+00:00', 'name': 'readout_error', 'unit': '', 'value': 0.043333333333333335}, {'date': '2020-07-16T08:23:05+00:00', 'name': 'prob_meas0_prep1', 'unit': '', 'value': 0.06999999999999995}, {'date': '2020-07-16T08:23:05+00:00', 'name': 'prob_meas1_prep0', 'unit': '', 'value': 0.016666666666666666}], [{'date': '2020-07-16T08:23:39+00:00', 'name': 'T1', 'unit': 'µs', 'value': 79.81272401303467}, {'date': '2020-07-16T08:24:23+00:00', 'name': 'T2', 'unit': 'µs', 'value': 84.35073173686916}, {'date': '2020-07-16T09:31:10+00:00', 'name': 'frequency', 'unit': 'GHz', 'value': 4.546054748992446}, {'date': '2020-07-16T08:23:05+00:00', 'name': 'readout_error', 'unit': '', 'value': 0.046666666666666634}, {'date': '2020-07-16T08:23:05+00:00', 'name': 'prob_meas0_prep1', 'unit': '', 'value': 0.056666666666666664}, {'date': '2020-07-16T08:23:05+00:00', 'name': 'prob_meas1_prep0', 'unit': '', 'value': 0.036666666666666625}], [{'date': '2020-07-16T08:23:39+00:00', 'name': 'T1', 'unit': 'µs', 'value': 60.611442190380586}, {'date': '2020-07-16T08:25:37+00:00', 'name': 'T2', 'unit': 'µs', 'value': 89.70287029540228}, {'date': '2020-07-16T09:31:10+00:00', 'name': 'frequency', 'unit': 'GHz', 'value': 4.661027790138195}, {'date': '2020-07-16T08:23:05+00:00', 'name': 'readout_error', 'unit': '', 'value': 0.06333333333333335}, {'date': '2020-07-16T08:23:05+00:00', 'name': 'prob_meas0_prep1', 'unit': '', 'value': 0.08666666666666667}, {'date': '2020-07-16T08:23:05+00:00', 'name': 'prob_meas1_prep0', 'unit': '', 'value': 0.040000000000000036}], [{'date': '2020-07-16T08:23:39+00:00', 'name': 'T1', 'unit': 'µs', 'value': 39.51438276620172}, {'date': '2020-07-16T08:24:23+00:00', 'name': 'T2', 'unit': 'µs', 'value': 79.78105554490219}, {'date': '2020-07-16T09:31:10+00:00', 'name': 'frequency', 'unit': 'GHz', 'value': 4.765455363636189}, {'date': '2020-07-16T08:23:05+00:00', 'name': 'readout_error', 'unit': '', 'value': 0.06666666666666665}, {'date': '2020-07-16T08:23:05+00:00', 'name': 'prob_meas0_prep1', 'unit': '', 'value': 0.053333333333333344}, {'date': '2020-07-16T08:23:05+00:00', 'name': 'prob_meas1_prep0', 'unit': '', 'value': 0.08}], [{'date': '2020-07-16T08:23:39+00:00', 'name': 'T1', 'unit': 'µs', 'value': 63.20132272238284}, {'date': '2020-07-16T08:25:01+00:00', 'name': 'T2', 'unit': 'µs', 'value': 146.23073869316272}, {'date': '2020-07-16T09:31:10+00:00', 'name': 'frequency', 'unit': 'GHz', 'value': 4.955298279014339}, {'date': '2020-07-16T08:23:05+00:00', 'name': 'readout_error', 'unit': '', 'value': 0.04166666666666674}, {'date': '2020-07-16T08:23:05+00:00', 'name': 'prob_meas0_prep1', 'unit': '', 'value': 0.053333333333333344}, {'date': '2020-07-16T08:23:05+00:00', 'name': 'prob_meas1_prep0', 'unit': '', 'value': 0.03}], [{'date': '2020-07-16T08:23:39+00:00', 'name': 'T1', 'unit': 'µs', 'value': 77.22404158566339}, {'date': '2020-07-16T08:24:23+00:00', 'name': 'T2', 'unit': 'µs', 'value': 70.36261710960252}, {'date': '2020-07-16T09:31:10+00:00', 'name': 'frequency', 'unit': 'GHz', 'value': 4.52195071112574}, {'date': '2020-07-16T08:23:05+00:00', 'name': 'readout_error', 'unit': '', 'value': 0.026666666666666616}, {'date': '2020-07-16T08:23:05+00:00', 'name': 'prob_meas0_prep1', 'unit': '', 'value': 0.04666666666666667}, {'date': '2020-07-16T08:23:05+00:00', 'name': 'prob_meas1_prep0', 'unit': '', 'value': 0.00666666666666671}], [{'date': '2020-07-16T08:23:39+00:00', 'name': 'T1', 'unit': 'µs', 'value': 85.80493053675536}, {'date': '2020-07-16T08:25:01+00:00', 'name': 'T2', 'unit': 'µs', 'value': 98.93173849938776}, {'date': '2020-07-16T09:31:10+00:00', 'name': 'frequency', 'unit': 'GHz', 'value': 4.736744073163147}, {'date': '2020-07-16T08:23:05+00:00', 'name': 'readout_error', 'unit': '', 'value': 0.053333333333333344}, {'date': '2020-07-16T08:23:05+00:00', 'name': 'prob_meas0_prep1', 'unit': '', 'value': 0.05333333333333334}, {'date': '2020-07-16T08:23:05+00:00', 'name': 'prob_meas1_prep0', 'unit': '', 'value': 0.053333333333333344}], [{'date': '2020-07-16T08:23:39+00:00', 'name': 'T1', 'unit': 'µs', 'value': 40.705987764445744}, {'date': '2020-07-16T08:24:23+00:00', 'name': 'T2', 'unit': 'µs', 'value': 40.563343284146264}, {'date': '2020-07-16T09:31:10+00:00', 'name': 'frequency', 'unit': 'GHz', 'value': 4.635904929428898}, {'date': '2020-07-16T08:23:05+00:00', 'name': 'readout_error', 'unit': '', 'value': 0.04166666666666663}, {'date': '2020-07-16T08:23:05+00:00', 'name': 'prob_meas0_prep1', 'unit': '', 'value': 0.056666666666666664}, {'date': '2020-07-16T08:23:05+00:00', 'name': 'prob_meas1_prep0', 'unit': '', 'value': 0.026666666666666616}], [{'date': '2020-07-16T08:23:39+00:00', 'name': 'T1', 'unit': 'µs', 'value': 102.3619478667473}, {'date': '2020-07-16T08:25:01+00:00', 'name': 'T2', 'unit': 'µs', 'value': 183.74257585621095}, {'date': '2020-07-16T09:31:10+00:00', 'name': 'frequency', 'unit': 'GHz', 'value': 4.555100429409646}, {'date': '2020-07-16T08:23:05+00:00', 'name': 'readout_error', 'unit': '', 'value': 0.036666666666666625}, {'date': '2020-07-16T08:23:05+00:00', 'name': 'prob_meas0_prep1', 'unit': '', 'value': 0.050000000000000044}, {'date': '2020-07-16T08:23:05+00:00', 'name': 'prob_meas1_prep0', 'unit': '', 'value': 0.023333333333333334}], [{'date': '2020-07-16T08:23:39+00:00', 'name': 'T1', 'unit': 'µs', 'value': 158.85244858165967}, {'date': '2020-07-16T08:24:23+00:00', 'name': 'T2', 'unit': 'µs', 'value': 123.60142655064045}, {'date': '2020-07-16T09:31:10+00:00', 'name': 'frequency', 'unit': 'GHz', 'value': 4.582566316088175}, {'date': '2020-07-16T08:23:05+00:00', 'name': 'readout_error', 'unit': '', 'value': 0.008333333333333304}, {'date': '2020-07-16T08:23:05+00:00', 'name': 'prob_meas0_prep1', 'unit': '', 'value': 0.013333333333333308}, {'date': '2020-07-16T08:23:05+00:00', 'name': 'prob_meas1_prep0', 'unit': '', 'value': 0.0033333333333333335}], [{'date': '2020-07-16T08:23:39+00:00', 'name': 'T1', 'unit': 'µs', 'value': 76.18074443513805}, {'date': '2020-07-16T08:25:01+00:00', 'name': 'T2', 'unit': 'µs', 'value': 60.994455203632995}, {'date': '2020-07-16T09:31:10+00:00', 'name': 'frequency', 'unit': 'GHz', 'value': 4.755454347642259}, {'date': '2020-07-16T08:23:05+00:00', 'name': 'readout_error', 'unit': '', 'value': 0.018333333333333313}, {'date': '2020-07-16T08:23:05+00:00', 'name': 'prob_meas0_prep1', 'unit': '', 'value': 0.026666666666666616}, {'date': '2020-07-16T08:23:05+00:00', 'name': 'prob_meas1_prep0', 'unit': '', 'value': 0.01}], [{'date': '2020-07-16T08:23:39+00:00', 'name': 'T1', 'unit': 'µs', 'value': 47.99962438679919}, {'date': '2020-07-16T08:24:23+00:00', 'name': 'T2', 'unit': 'µs', 'value': 122.380323557432}, {'date': '2020-07-16T09:31:10+00:00', 'name': 'frequency', 'unit': 'GHz', 'value': 4.589806875805816}, {'date': '2020-07-16T08:23:05+00:00', 'name': 'readout_error', 'unit': '', 'value': 0.008333333333333304}, {'date': '2020-07-16T08:23:05+00:00', 'name': 'prob_meas0_prep1', 'unit': '', 'value': 0.013333333333333308}, {'date': '2020-07-16T08:23:05+00:00', 'name': 'prob_meas1_prep0', 'unit': '', 'value': 0.0033333333333333335}], [{'date': '2020-07-16T08:23:39+00:00', 'name': 'T1', 'unit': 'µs', 'value': 93.30788132324179}, {'date': '2020-07-16T08:25:01+00:00', 'name': 'T2', 'unit': 'µs', 'value': 79.49490900679012}, {'date': '2020-07-16T09:31:10+00:00', 'name': 'frequency', 'unit': 'GHz', 'value': 4.7518281643835465}, {'date': '2020-07-16T08:23:05+00:00', 'name': 'readout_error', 'unit': '', 'value': 0.043333333333333335}, {'date': '2020-07-16T08:23:05+00:00', 'name': 'prob_meas0_prep1', 'unit': '', 'value': 0.07}, {'date': '2020-07-16T08:23:05+00:00', 'name': 'prob_meas1_prep0', 'unit': '', 'value': 0.01666666666666672}], [{'date': '2020-07-16T08:23:39+00:00', 'name': 'T1', 'unit': 'µs', 'value': 50.81292114375916}, {'date': '2020-07-16T08:24:23+00:00', 'name': 'T2', 'unit': 'µs', 'value': 59.90396504160827}, {'date': '2020-07-16T09:31:10+00:00', 'name': 'frequency', 'unit': 'GHz', 'value': 5.035180525489188}, {'date': '2020-07-16T08:23:05+00:00', 'name': 'readout_error', 'unit': '', 'value': 0.07833333333333337}, {'date': '2020-07-16T08:23:05+00:00', 'name': 'prob_meas0_prep1', 'unit': '', 'value': 0.07999999999999996}, {'date': '2020-07-16T08:23:05+00:00', 'name': 'prob_meas1_prep0', 'unit': '', 'value': 0.07666666666666666}]], 'gates': [{'qubits': [0], 'gate': 'id', 'parameters': [{'date': '2020-07-16T08:26:09+00:00', 'name': 'gate_error', 'unit': '', 'value': 0.0005055556335255787}, {'date': '2020-07-16T09:31:10+00:00', 'name': 'gate_length', 'unit': 'ns', 'value': 35.55555555555556}]}, {'qubits': [0], 'gate': 'u1', 'parameters': [{'date': '2020-07-16T08:26:09+00:00', 'name': 'gate_error', 'unit': '', 'value': 0}, {'date': '2020-07-16T09:31:10+00:00', 'name': 'gate_length', 'unit': 'ns', 'value': 0}]}, {'qubits': [0], 'gate': 'u2', 'parameters': [{'date': '2020-07-16T08:26:09+00:00', 'name': 'gate_error', 'unit': '', 'value': 0.0005055556335255787}, {'date': '2020-07-16T09:31:10+00:00', 'name': 'gate_length', 'unit': 'ns', 'value': 35.55555555555556}]}, {'qubits': [0], 'gate': 'u3', 'parameters': [{'date': '2020-07-16T08:26:09+00:00', 'name': 'gate_error', 'unit': '', 'value': 0.0010108556805525915}, {'date': '2020-07-16T09:31:10+00:00', 'name': 'gate_length', 'unit': 'ns', 'value': 71.11111111111111}]}, {'qubits': [1], 'gate': 'id', 'parameters': [{'date': '2020-07-16T08:27:19+00:00', 'name': 'gate_error', 'unit': '', 'value': 0.00039371197767838236}, {'date': '2020-07-16T09:31:10+00:00', 'name': 'gate_length', 'unit': 'ns', 'value': 35.55555555555556}]}, {'qubits': [1], 'gate': 'u1', 'parameters': [{'date': '2020-07-16T08:27:19+00:00', 'name': 'gate_error', 'unit': '', 'value': 0}, {'date': '2020-07-16T09:31:10+00:00', 'name': 'gate_length', 'unit': 'ns', 'value': 0}]}, {'qubits': [1], 'gate': 'u2', 'parameters': [{'date': '2020-07-16T08:27:19+00:00', 'name': 'gate_error', 'unit': '', 'value': 0.00039371197767838236}, {'date': '2020-07-16T09:31:10+00:00', 'name': 'gate_length', 'unit': 'ns', 'value': 35.55555555555556}]}, {'qubits': [1], 'gate': 'u3', 'parameters': [{'date': '2020-07-16T08:27:19+00:00', 'name': 'gate_error', 'unit': '', 'value': 0.0007872689462353755}, {'date': '2020-07-16T09:31:10+00:00', 'name': 'gate_length', 'unit': 'ns', 'value': 71.11111111111111}]}, {'qubits': [2], 'gate': 'id', 'parameters': [{'date': '2020-07-16T08:26:09+00:00', 'name': 'gate_error', 'unit': '', 'value': 0.0002610246273118027}, {'date': '2020-07-16T09:31:10+00:00', 'name': 'gate_length', 'unit': 'ns', 'value': 35.55555555555556}]}, {'qubits': [2], 'gate': 'u1', 'parameters': [{'date': '2020-07-16T08:26:09+00:00', 'name': 'gate_error', 'unit': '', 'value': 0}, {'date': '2020-07-16T09:31:10+00:00', 'name': 'gate_length', 'unit': 'ns', 'value': 0}]}, {'qubits': [2], 'gate': 'u2', 'parameters': [{'date': '2020-07-16T08:26:09+00:00', 'name': 'gate_error', 'unit': '', 'value': 0.0002610246273118027}, {'date': '2020-07-16T09:31:10+00:00', 'name': 'gate_length', 'unit': 'ns', 'value': 35.55555555555556}]}, {'qubits': [2], 'gate': 'u3', 'parameters': [{'date': '2020-07-16T08:26:09+00:00', 'name': 'gate_error', 'unit': '', 'value': 0.0005219811207675118}, {'date': '2020-07-16T09:31:10+00:00', 'name': 'gate_length', 'unit': 'ns', 'value': 71.11111111111111}]}, {'qubits': [3], 'gate': 'id', 'parameters': [{'date': '2020-07-16T08:27:19+00:00', 'name': 'gate_error', 'unit': '', 'value': 0.000272304725009394}, {'date': '2020-07-16T09:31:10+00:00', 'name': 'gate_length', 'unit': 'ns', 'value': 35.55555555555556}]}, {'qubits': [3], 'gate': 'u1', 'parameters': [{'date': '2020-07-16T08:27:19+00:00', 'name': 'gate_error', 'unit': '', 'value': 0}, {'date': '2020-07-16T09:31:10+00:00', 'name': 'gate_length', 'unit': 'ns', 'value': 0}]}, {'qubits': [3], 'gate': 'u2', 'parameters': [{'date': '2020-07-16T08:27:19+00:00', 'name': 'gate_error', 'unit': '', 'value': 0.000272304725009394}, {'date': '2020-07-16T09:31:10+00:00', 'name': 'gate_length', 'unit': 'ns', 'value': 35.55555555555556}]}, {'qubits': [3], 'gate': 'u3', 'parameters': [{'date': '2020-07-16T08:27:19+00:00', 'name': 'gate_error', 'unit': '', 'value': 0.0005445353001555242}, {'date': '2020-07-16T09:31:10+00:00', 'name': 'gate_length', 'unit': 'ns', 'value': 71.11111111111111}]}, {'qubits': [4], 'gate': 'id', 'parameters': [{'date': '2020-07-16T08:26:09+00:00', 'name': 'gate_error', 'unit': '', 'value': 0.00027893766872280596}, {'date': '2020-07-16T09:31:10+00:00', 'name': 'gate_length', 'unit': 'ns', 'value': 35.55555555555556}]}, {'qubits': [4], 'gate': 'u1', 'parameters': [{'date': '2020-07-16T08:26:09+00:00', 'name': 'gate_error', 'unit': '', 'value': 0}, {'date': '2020-07-16T09:31:10+00:00', 'name': 'gate_length', 'unit': 'ns', 'value': 0}]}, {'qubits': [4], 'gate': 'u2', 'parameters': [{'date': '2020-07-16T08:26:09+00:00', 'name': 'gate_error', 'unit': '', 'value': 0.00027893766872280596}, {'date': '2020-07-16T09:31:10+00:00', 'name': 'gate_length', 'unit': 'ns', 'value': 35.55555555555556}]}, {'qubits': [4], 'gate': 'u3', 'parameters': [{'date': '2020-07-16T08:26:09+00:00', 'name': 'gate_error', 'unit': '', 'value': 0.000557797531222537}, {'date': '2020-07-16T09:31:10+00:00', 'name': 'gate_length', 'unit': 'ns', 'value': 71.11111111111111}]}, {'qubits': [5], 'gate': 'id', 'parameters': [{'date': '2020-07-16T08:26:09+00:00', 'name': 'gate_error', 'unit': '', 'value': 0.0010539556990533047}, {'date': '2020-07-16T09:31:10+00:00', 'name': 'gate_length', 'unit': 'ns', 'value': 35.55555555555556}]}, {'qubits': [5], 'gate': 'u1', 'parameters': [{'date': '2020-07-16T08:26:09+00:00', 'name': 'gate_error', 'unit': '', 'value': 0}, {'date': '2020-07-16T09:31:10+00:00', 'name': 'gate_length', 'unit': 'ns', 'value': 0}]}, {'qubits': [5], 'gate': 'u2', 'parameters': [{'date': '2020-07-16T08:26:09+00:00', 'name': 'gate_error', 'unit': '', 'value': 0.0010539556990533047}, {'date': '2020-07-16T09:31:10+00:00', 'name': 'gate_length', 'unit': 'ns', 'value': 35.55555555555556}]}, {'qubits': [5], 'gate': 'u3', 'parameters': [{'date': '2020-07-16T08:26:09+00:00', 'name': 'gate_error', 'unit': '', 'value': 0.0021068005754910635}, {'date': '2020-07-16T09:31:10+00:00', 'name': 'gate_length', 'unit': 'ns', 'value': 71.11111111111111}]}, {'qubits': [6], 'gate': 'id', 'parameters': [{'date': '2020-07-16T08:28:16+00:00', 'name': 'gate_error', 'unit': '', 'value': 0.0003234019252600052}, {'date': '2020-07-16T09:31:10+00:00', 'name': 'gate_length', 'unit': 'ns', 'value': 35.55555555555556}]}, {'qubits': [6], 'gate': 'u1', 'parameters': [{'date': '2020-07-16T08:28:16+00:00', 'name': 'gate_error', 'unit': '', 'value': 0}, {'date': '2020-07-16T09:31:10+00:00', 'name': 'gate_length', 'unit': 'ns', 'value': 0}]}, {'qubits': [6], 'gate': 'u2', 'parameters': [{'date': '2020-07-16T08:28:16+00:00', 'name': 'gate_error', 'unit': '', 'value': 0.0003234019252600052}, {'date': '2020-07-16T09:31:10+00:00', 'name': 'gate_length', 'unit': 'ns', 'value': 35.55555555555556}]}, {'qubits': [6], 'gate': 'u3', 'parameters': [{'date': '2020-07-16T08:28:16+00:00', 'name': 'gate_error', 'unit': '', 'value': 0.0006466992617147893}, {'date': '2020-07-16T09:31:10+00:00', 'name': 'gate_length', 'unit': 'ns', 'value': 71.11111111111111}]}, {'qubits': [7], 'gate': 'id', 'parameters': [{'date': '2020-07-16T08:26:09+00:00', 'name': 'gate_error', 'unit': '', 'value': 0.00030112730813008486}, {'date': '2020-07-16T09:31:10+00:00', 'name': 'gate_length', 'unit': 'ns', 'value': 35.55555555555556}]}, {'qubits': [7], 'gate': 'u1', 'parameters': [{'date': '2020-07-16T08:26:09+00:00', 'name': 'gate_error', 'unit': '', 'value': 0}, {'date': '2020-07-16T09:31:10+00:00', 'name': 'gate_length', 'unit': 'ns', 'value': 0}]}, {'qubits': [7], 'gate': 'u2', 'parameters': [{'date': '2020-07-16T08:26:09+00:00', 'name': 'gate_error', 'unit': '', 'value': 0.00030112730813008486}, {'date': '2020-07-16T09:31:10+00:00', 'name': 'gate_length', 'unit': 'ns', 'value': 35.55555555555556}]}, {'qubits': [7], 'gate': 'u3', 'parameters': [{'date': '2020-07-16T08:26:09+00:00', 'name': 'gate_error', 'unit': '', 'value': 0.0006021639386043498}, {'date': '2020-07-16T09:31:10+00:00', 'name': 'gate_length', 'unit': 'ns', 'value': 71.11111111111111}]}, {'qubits': [8], 'gate': 'id', 'parameters': [{'date': '2020-07-16T08:28:16+00:00', 'name': 'gate_error', 'unit': '', 'value': 0.000345880204659675}, {'date': '2020-07-16T09:31:10+00:00', 'name': 'gate_length', 'unit': 'ns', 'value': 35.55555555555556}]}, {'qubits': [8], 'gate': 'u1', 'parameters': [{'date': '2020-07-16T08:28:16+00:00', 'name': 'gate_error', 'unit': '', 'value': 0}, {'date': '2020-07-16T09:31:10+00:00', 'name': 'gate_length', 'unit': 'ns', 'value': 0}]}, {'qubits': [8], 'gate': 'u2', 'parameters': [{'date': '2020-07-16T08:28:16+00:00', 'name': 'gate_error', 'unit': '', 'value': 0.000345880204659675}, {'date': '2020-07-16T09:31:10+00:00', 'name': 'gate_length', 'unit': 'ns', 'value': 35.55555555555556}]}, {'qubits': [8], 'gate': 'u3', 'parameters': [{'date': '2020-07-16T08:28:16+00:00', 'name': 'gate_error', 'unit': '', 'value': 0.0006916407762033172}, {'date': '2020-07-16T09:31:10+00:00', 'name': 'gate_length', 'unit': 'ns', 'value': 71.11111111111111}]}, {'qubits': [9], 'gate': 'id', 'parameters': [{'date': '2020-07-16T08:26:09+00:00', 'name': 'gate_error', 'unit': '', 'value': 0.00038389882958633846}, {'date': '2020-07-16T09:31:10+00:00', 'name': 'gate_length', 'unit': 'ns', 'value': 35.55555555555556}]}, {'qubits': [9], 'gate': 'u1', 'parameters': [{'date': '2020-07-16T08:26:09+00:00', 'name': 'gate_error', 'unit': '', 'value': 0}, {'date': '2020-07-16T09:31:10+00:00', 'name': 'gate_length', 'unit': 'ns', 'value': 0}]}, {'qubits': [9], 'gate': 'u2', 'parameters': [{'date': '2020-07-16T08:26:09+00:00', 'name': 'gate_error', 'unit': '', 'value': 0.00038389882958633846}, {'date': '2020-07-16T09:31:10+00:00', 'name': 'gate_length', 'unit': 'ns', 'value': 35.55555555555556}]}, {'qubits': [9], 'gate': 'u3', 'parameters': [{'date': '2020-07-16T08:26:09+00:00', 'name': 'gate_error', 'unit': '', 'value': 0.0007676502808613428}, {'date': '2020-07-16T09:31:10+00:00', 'name': 'gate_length', 'unit': 'ns', 'value': 71.11111111111111}]}, {'qubits': [10], 'gate': 'id', 'parameters': [{'date': '2020-07-16T08:27:19+00:00', 'name': 'gate_error', 'unit': '', 'value': 0.0007816779483721322}, {'date': '2020-07-16T09:31:10+00:00', 'name': 'gate_length', 'unit': 'ns', 'value': 35.55555555555556}]}, {'qubits': [10], 'gate': 'u1', 'parameters': [{'date': '2020-07-16T08:27:19+00:00', 'name': 'gate_error', 'unit': '', 'value': 0}, {'date': '2020-07-16T09:31:10+00:00', 'name': 'gate_length', 'unit': 'ns', 'value': 0}]}, {'qubits': [10], 'gate': 'u2', 'parameters': [{'date': '2020-07-16T08:27:19+00:00', 'name': 'gate_error', 'unit': '', 'value': 0.0007816779483721322}, {'date': '2020-07-16T09:31:10+00:00', 'name': 'gate_length', 'unit': 'ns', 'value': 35.55555555555556}]}, {'qubits': [10], 'gate': 'u3', 'parameters': [{'date': '2020-07-16T08:27:19+00:00', 'name': 'gate_error', 'unit': '', 'value': 0.0015627448763293472}, {'date': '2020-07-16T09:31:10+00:00', 'name': 'gate_length', 'unit': 'ns', 'value': 71.11111111111111}]}, {'qubits': [11], 'gate': 'id', 'parameters': [{'date': '2020-07-16T08:26:09+00:00', 'name': 'gate_error', 'unit': '', 'value': 0.00036888253432060844}, {'date': '2020-07-16T09:31:10+00:00', 'name': 'gate_length', 'unit': 'ns', 'value': 35.55555555555556}]}, {'qubits': [11], 'gate': 'u1', 'parameters': [{'date': '2020-07-16T08:26:09+00:00', 'name': 'gate_error', 'unit': '', 'value': 0}, {'date': '2020-07-16T09:31:10+00:00', 'name': 'gate_length', 'unit': 'ns', 'value': 0}]}, {'qubits': [11], 'gate': 'u2', 'parameters': [{'date': '2020-07-16T08:26:09+00:00', 'name': 'gate_error', 'unit': '', 'value': 0.00036888253432060844}, {'date': '2020-07-16T09:31:10+00:00', 'name': 'gate_length', 'unit': 'ns', 'value': 35.55555555555556}]}, {'qubits': [11], 'gate': 'u3', 'parameters': [{'date': '2020-07-16T08:26:09+00:00', 'name': 'gate_error', 'unit': '', 'value': 0.0007376289943171743}, {'date': '2020-07-16T09:31:10+00:00', 'name': 'gate_length', 'unit': 'ns', 'value': 71.11111111111111}]}, {'qubits': [12], 'gate': 'id', 'parameters': [{'date': '2020-07-16T08:27:19+00:00', 'name': 'gate_error', 'unit': '', 'value': 0.00037521794693771683}, {'date': '2020-07-16T09:31:10+00:00', 'name': 'gate_length', 'unit': 'ns', 'value': 35.55555555555556}]}, {'qubits': [12], 'gate': 'u1', 'parameters': [{'date': '2020-07-16T08:27:19+00:00', 'name': 'gate_error', 'unit': '', 'value': 0}, {'date': '2020-07-16T09:31:10+00:00', 'name': 'gate_length', 'unit': 'ns', 'value': 0}]}, {'qubits': [12], 'gate': 'u2', 'parameters': [{'date': '2020-07-16T08:27:19+00:00', 'name': 'gate_error', 'unit': '', 'value': 0.00037521794693771683}, {'date': '2020-07-16T09:31:10+00:00', 'name': 'gate_length', 'unit': 'ns', 'value': 35.55555555555556}]}, {'qubits': [12], 'gate': 'u3', 'parameters': [{'date': '2020-07-16T08:27:19+00:00', 'name': 'gate_error', 'unit': '', 'value': 0.0007502951053677265}, {'date': '2020-07-16T09:31:10+00:00', 'name': 'gate_length', 'unit': 'ns', 'value': 71.11111111111111}]}, {'qubits': [13], 'gate': 'id', 'parameters': [{'date': '2020-07-16T08:26:09+00:00', 'name': 'gate_error', 'unit': '', 'value': 0.0006926666863068134}, {'date': '2020-07-16T09:31:10+00:00', 'name': 'gate_length', 'unit': 'ns', 'value': 35.55555555555556}]}, {'qubits': [13], 'gate': 'u1', 'parameters': [{'date': '2020-07-16T08:26:09+00:00', 'name': 'gate_error', 'unit': '', 'value': 0}, {'date': '2020-07-16T09:31:10+00:00', 'name': 'gate_length', 'unit': 'ns', 'value': 0}]}, {'qubits': [13], 'gate': 'u2', 'parameters': [{'date': '2020-07-16T08:26:09+00:00', 'name': 'gate_error', 'unit': '', 'value': 0.0006926666863068134}, {'date': '2020-07-16T09:31:10+00:00', 'name': 'gate_length', 'unit': 'ns', 'value': 35.55555555555556}]}, {'qubits': [13], 'gate': 'u3', 'parameters': [{'date': '2020-07-16T08:26:09+00:00', 'name': 'gate_error', 'unit': '', 'value': 0.001384853585475354}, {'date': '2020-07-16T09:31:10+00:00', 'name': 'gate_length', 'unit': 'ns', 'value': 71.11111111111111}]}, {'qubits': [14], 'gate': 'id', 'parameters': [{'date': '2020-07-16T08:27:19+00:00', 'name': 'gate_error', 'unit': '', 'value': 0.000532929691704874}, {'date': '2020-07-16T09:31:10+00:00', 'name': 'gate_length', 'unit': 'ns', 'value': 35.55555555555556}]}, {'qubits': [14], 'gate': 'u1', 'parameters': [{'date': '2020-07-16T08:27:19+00:00', 'name': 'gate_error', 'unit': '', 'value': 0}, {'date': '2020-07-16T09:31:10+00:00', 'name': 'gate_length', 'unit': 'ns', 'value': 0}]}, {'qubits': [14], 'gate': 'u2', 'parameters': [{'date': '2020-07-16T08:27:19+00:00', 'name': 'gate_error', 'unit': '', 'value': 0.000532929691704874}, {'date': '2020-07-16T09:31:10+00:00', 'name': 'gate_length', 'unit': 'ns', 'value': 35.55555555555556}]}, {'qubits': [14], 'gate': 'u3', 'parameters': [{'date': '2020-07-16T08:27:19+00:00', 'name': 'gate_error', 'unit': '', 'value': 0.0010655753693533665}, {'date': '2020-07-16T09:31:10+00:00', 'name': 'gate_length', 'unit': 'ns', 'value': 71.11111111111111}]}, {'qubits': [15], 'gate': 'id', 'parameters': [{'date': '2020-07-16T08:26:09+00:00', 'name': 'gate_error', 'unit': '', 'value': 0.00028589899975881906}, {'date': '2020-07-16T09:31:10+00:00', 'name': 'gate_length', 'unit': 'ns', 'value': 35.55555555555556}]}, {'qubits': [15], 'gate': 'u1', 'parameters': [{'date': '2020-07-16T08:26:09+00:00', 'name': 'gate_error', 'unit': '', 'value': 0}, {'date': '2020-07-16T09:31:10+00:00', 'name': 'gate_length', 'unit': 'ns', 'value': 0}]}, {'qubits': [15], 'gate': 'u2', 'parameters': [{'date': '2020-07-16T08:26:09+00:00', 'name': 'gate_error', 'unit': '', 'value': 0.00028589899975881906}, {'date': '2020-07-16T09:31:10+00:00', 'name': 'gate_length', 'unit': 'ns', 'value': 35.55555555555556}]}, {'qubits': [15], 'gate': 'u3', 'parameters': [{'date': '2020-07-16T08:26:09+00:00', 'name': 'gate_error', 'unit': '', 'value': 0.000571716261279609}, {'date': '2020-07-16T09:31:10+00:00', 'name': 'gate_length', 'unit': 'ns', 'value': 71.11111111111111}]}, {'qubits': [16], 'gate': 'id', 'parameters': [{'date': '2020-07-16T08:27:19+00:00', 'name': 'gate_error', 'unit': '', 'value': 0.0004023846552667929}, {'date': '2020-07-16T09:31:10+00:00', 'name': 'gate_length', 'unit': 'ns', 'value': 35.55555555555556}]}, {'qubits': [16], 'gate': 'u1', 'parameters': [{'date': '2020-07-16T08:27:19+00:00', 'name': 'gate_error', 'unit': '', 'value': 0}, {'date': '2020-07-16T09:31:10+00:00', 'name': 'gate_length', 'unit': 'ns', 'value': 0}]}, {'qubits': [16], 'gate': 'u2', 'parameters': [{'date': '2020-07-16T08:27:19+00:00', 'name': 'gate_error', 'unit': '', 'value': 0.0004023846552667929}, {'date': '2020-07-16T09:31:10+00:00', 'name': 'gate_length', 'unit': 'ns', 'value': 35.55555555555556}]}, {'qubits': [16], 'gate': 'u3', 'parameters': [{'date': '2020-07-16T08:27:19+00:00', 'name': 'gate_error', 'unit': '', 'value': 0.0008046073971227363}, {'date': '2020-07-16T09:31:10+00:00', 'name': 'gate_length', 'unit': 'ns', 'value': 71.11111111111111}]}, {'qubits': [17], 'gate': 'id', 'parameters': [{'date': '2020-07-16T08:26:09+00:00', 'name': 'gate_error', 'unit': '', 'value': 0.00027002426848565347}, {'date': '2020-07-16T09:31:10+00:00', 'name': 'gate_length', 'unit': 'ns', 'value': 35.55555555555556}]}, {'qubits': [17], 'gate': 'u1', 'parameters': [{'date': '2020-07-16T08:26:09+00:00', 'name': 'gate_error', 'unit': '', 'value': 0}, {'date': '2020-07-16T09:31:10+00:00', 'name': 'gate_length', 'unit': 'ns', 'value': 0}]}, {'qubits': [17], 'gate': 'u2', 'parameters': [{'date': '2020-07-16T08:26:09+00:00', 'name': 'gate_error', 'unit': '', 'value': 0.00027002426848565347}, {'date': '2020-07-16T09:31:10+00:00', 'name': 'gate_length', 'unit': 'ns', 'value': 35.55555555555556}]}, {'qubits': [17], 'gate': 'u3', 'parameters': [{'date': '2020-07-16T08:26:09+00:00', 'name': 'gate_error', 'unit': '', 'value': 0.0005399756238657627}, {'date': '2020-07-16T09:31:10+00:00', 'name': 'gate_length', 'unit': 'ns', 'value': 71.11111111111111}]}, {'qubits': [18], 'gate': 'id', 'parameters': [{'date': '2020-07-16T08:27:19+00:00', 'name': 'gate_error', 'unit': '', 'value': 0.0006744564689227925}, {'date': '2020-07-16T09:31:10+00:00', 'name': 'gate_length', 'unit': 'ns', 'value': 35.55555555555556}]}, {'qubits': [18], 'gate': 'u1', 'parameters': [{'date': '2020-07-16T08:27:19+00:00', 'name': 'gate_error', 'unit': '', 'value': 0}, {'date': '2020-07-16T09:31:10+00:00', 'name': 'gate_length', 'unit': 'ns', 'value': 0}]}, {'qubits': [18], 'gate': 'u2', 'parameters': [{'date': '2020-07-16T08:27:19+00:00', 'name': 'gate_error', 'unit': '', 'value': 0.0006744564689227925}, {'date': '2020-07-16T09:31:10+00:00', 'name': 'gate_length', 'unit': 'ns', 'value': 35.55555555555556}]}, {'qubits': [18], 'gate': 'u3', 'parameters': [{'date': '2020-07-16T08:27:19+00:00', 'name': 'gate_error', 'unit': '', 'value': 0.0013484580463172247}, {'date': '2020-07-16T09:31:10+00:00', 'name': 'gate_length', 'unit': 'ns', 'value': 71.11111111111111}]}, {'qubits': [19], 'gate': 'id', 'parameters': [{'date': '2020-07-16T08:26:09+00:00', 'name': 'gate_error', 'unit': '', 'value': 0.0013329378941209697}, {'date': '2020-07-16T09:31:10+00:00', 'name': 'gate_length', 'unit': 'ns', 'value': 35.55555555555556}]}, {'qubits': [19], 'gate': 'u1', 'parameters': [{'date': '2020-07-16T08:26:09+00:00', 'name': 'gate_error', 'unit': '', 'value': 0}, {'date': '2020-07-16T09:31:10+00:00', 'name': 'gate_length', 'unit': 'ns', 'value': 0}]}, {'qubits': [19], 'gate': 'u2', 'parameters': [{'date': '2020-07-16T08:26:09+00:00', 'name': 'gate_error', 'unit': '', 'value': 0.0013329378941209697}, {'date': '2020-07-16T09:31:10+00:00', 'name': 'gate_length', 'unit': 'ns', 'value': 35.55555555555556}]}, {'qubits': [19], 'gate': 'u3', 'parameters': [{'date': '2020-07-16T08:26:09+00:00', 'name': 'gate_error', 'unit': '', 'value': 0.002664099064812242}, {'date': '2020-07-16T09:31:10+00:00', 'name': 'gate_length', 'unit': 'ns', 'value': 71.11111111111111}]}, {'qubits': [0, 1], 'gate': 'cx', 'parameters': [{'date': '2020-07-16T08:31:48+00:00', 'name': 'gate_error', 'unit': '', 'value': 0.014443774802924969}, {'date': '2020-07-16T09:31:10+00:00', 'name': 'gate_length', 'unit': 'ns', 'value': 220.44444444444443}]}, {'qubits': [1, 0], 'gate': 'cx', 'parameters': [{'date': '2020-07-16T08:31:48+00:00', 'name': 'gate_error', 'unit': '', 'value': 0.014443774802924969}, {'date': '2020-07-16T09:31:10+00:00', 'name': 'gate_length', 'unit': 'ns', 'value': 256}]}, {'qubits': [1, 2], 'gate': 'cx', 'parameters': [{'date': '2020-07-16T08:34:33+00:00', 'name': 'gate_error', 'unit': '', 'value': 0.009078568568317569}, {'date': '2020-07-16T09:31:10+00:00', 'name': 'gate_length', 'unit': 'ns', 'value': 334.22222222222223}]}, {'qubits': [1, 6], 'gate': 'cx', 'parameters': [{'date': '2020-07-16T08:42:57+00:00', 'name': 'gate_error', 'unit': '', 'value': 0.013269954439024817}, {'date': '2020-07-16T09:31:10+00:00', 'name': 'gate_length', 'unit': 'ns', 'value': 462.2222222222222}]}, {'qubits': [2, 1], 'gate': 'cx', 'parameters': [{'date': '2020-07-16T08:34:33+00:00', 'name': 'gate_error', 'unit': '', 'value': 0.009078568568317569}, {'date': '2020-07-16T09:31:10+00:00', 'name': 'gate_length', 'unit': 'ns', 'value': 298.66666666666663}]}, {'qubits': [2, 3], 'gate': 'cx', 'parameters': [{'date': '2020-07-16T08:37:47+00:00', 'name': 'gate_error', 'unit': '', 'value': 0.008753664660944321}, {'date': '2020-07-16T09:31:10+00:00', 'name': 'gate_length', 'unit': 'ns', 'value': 277.3333333333333}]}, {'qubits': [3, 2], 'gate': 'cx', 'parameters': [{'date': '2020-07-16T08:37:47+00:00', 'name': 'gate_error', 'unit': '', 'value': 0.008753664660944321}, {'date': '2020-07-16T09:31:10+00:00', 'name': 'gate_length', 'unit': 'ns', 'value': 241.77777777777777}]}, {'qubits': [3, 4], 'gate': 'cx', 'parameters': [{'date': '2020-07-15T08:44:13+00:00', 'name': 'gate_error', 'unit': '', 'value': 1}, {'date': '2020-07-16T09:31:10+00:00', 'name': 'gate_length', 'unit': 'ns', 'value': 768}]}, {'qubits': [3, 8], 'gate': 'cx', 'parameters': [{'date': '2020-07-16T08:45:30+00:00', 'name': 'gate_error', 'unit': '', 'value': 0.010348460712323843}, {'date': '2020-07-16T09:31:10+00:00', 'name': 'gate_length', 'unit': 'ns', 'value': 327.1111111111111}]}, {'qubits': [4, 3], 'gate': 'cx', 'parameters': [{'date': '2020-07-15T08:44:13+00:00', 'name': 'gate_error', 'unit': '', 'value': 1}, {'date': '2020-07-16T09:31:10+00:00', 'name': 'gate_length', 'unit': 'ns', 'value': 732.4444444444445}]}, {'qubits': [5, 6], 'gate': 'cx', 'parameters': [{'date': '2020-07-16T08:48:18+00:00', 'name': 'gate_error', 'unit': '', 'value': 0.013682707307192649}, {'date': '2020-07-16T09:31:10+00:00', 'name': 'gate_length', 'unit': 'ns', 'value': 241.77777777777777}]}, {'qubits': [5, 10], 'gate': 'cx', 'parameters': [{'date': '2020-07-16T08:58:29+00:00', 'name': 'gate_error', 'unit': '', 'value': 0.018483208505161053}, {'date': '2020-07-16T09:31:10+00:00', 'name': 'gate_length', 'unit': 'ns', 'value': 355.55555555555554}]}, {'qubits': [6, 1], 'gate': 'cx', 'parameters': [{'date': '2020-07-16T08:42:57+00:00', 'name': 'gate_error', 'unit': '', 'value': 0.013269954439024817}, {'date': '2020-07-16T09:31:10+00:00', 'name': 'gate_length', 'unit': 'ns', 'value': 426.66666666666663}]}, {'qubits': [6, 5], 'gate': 'cx', 'parameters': [{'date': '2020-07-16T08:48:18+00:00', 'name': 'gate_error', 'unit': '', 'value': 0.013682707307192649}, {'date': '2020-07-16T09:31:10+00:00', 'name': 'gate_length', 'unit': 'ns', 'value': 277.3333333333333}]}, {'qubits': [6, 7], 'gate': 'cx', 'parameters': [{'date': '2020-07-16T08:50:46+00:00', 'name': 'gate_error', 'unit': '', 'value': 0.007845489903730019}, {'date': '2020-07-16T09:31:10+00:00', 'name': 'gate_length', 'unit': 'ns', 'value': 256}]}, {'qubits': [7, 6], 'gate': 'cx', 'parameters': [{'date': '2020-07-16T08:50:46+00:00', 'name': 'gate_error', 'unit': '', 'value': 0.007845489903730019}, {'date': '2020-07-16T09:31:10+00:00', 'name': 'gate_length', 'unit': 'ns', 'value': 291.55555555555554}]}, {'qubits': [7, 8], 'gate': 'cx', 'parameters': [{'date': '2020-07-16T08:53:18+00:00', 'name': 'gate_error', 'unit': '', 'value': 0.014082732056832803}, {'date': '2020-07-16T09:31:10+00:00', 'name': 'gate_length', 'unit': 'ns', 'value': 412.4444444444444}]}, {'qubits': [7, 12], 'gate': 'cx', 'parameters': [{'date': '2020-07-16T09:01:23+00:00', 'name': 'gate_error', 'unit': '', 'value': 0.00925819356391}, {'date': '2020-07-16T09:31:10+00:00', 'name': 'gate_length', 'unit': 'ns', 'value': 305.77777777777777}]}, {'qubits': [8, 3], 'gate': 'cx', 'parameters': [{'date': '2020-07-16T08:45:30+00:00', 'name': 'gate_error', 'unit': '', 'value': 0.010348460712323843}, {'date': '2020-07-16T09:31:10+00:00', 'name': 'gate_length', 'unit': 'ns', 'value': 362.66666666666663}]}, {'qubits': [8, 7], 'gate': 'cx', 'parameters': [{'date': '2020-07-16T08:53:18+00:00', 'name': 'gate_error', 'unit': '', 'value': 0.014082732056832803}, {'date': '2020-07-16T09:31:10+00:00', 'name': 'gate_length', 'unit': 'ns', 'value': 448}]}, {'qubits': [8, 9], 'gate': 'cx', 'parameters': [{'date': '2020-07-16T08:55:52+00:00', 'name': 'gate_error', 'unit': '', 'value': 0.017382934485606766}, {'date': '2020-07-16T09:31:10+00:00', 'name': 'gate_length', 'unit': 'ns', 'value': 455.1111111111111}]}, {'qubits': [9, 8], 'gate': 'cx', 'parameters': [{'date': '2020-07-16T08:55:52+00:00', 'name': 'gate_error', 'unit': '', 'value': 0.017382934485606766}, {'date': '2020-07-16T09:31:10+00:00', 'name': 'gate_length', 'unit': 'ns', 'value': 490.66666666666663}]}, {'qubits': [9, 14], 'gate': 'cx', 'parameters': [{'date': '2020-07-16T09:14:41+00:00', 'name': 'gate_error', 'unit': '', 'value': 0.02662525781925798}, {'date': '2020-07-16T09:31:10+00:00', 'name': 'gate_length', 'unit': 'ns', 'value': 547.5555555555555}]}, {'qubits': [10, 5], 'gate': 'cx', 'parameters': [{'date': '2020-07-16T08:58:29+00:00', 'name': 'gate_error', 'unit': '', 'value': 0.018483208505161053}, {'date': '2020-07-16T09:31:10+00:00', 'name': 'gate_length', 'unit': 'ns', 'value': 320}]}, {'qubits': [10, 11], 'gate': 'cx', 'parameters': [{'date': '2020-07-16T09:04:01+00:00', 'name': 'gate_error', 'unit': '', 'value': 0.012553985891481378}, {'date': '2020-07-16T09:31:10+00:00', 'name': 'gate_length', 'unit': 'ns', 'value': 668.4444444444445}]}, {'qubits': [11, 10], 'gate': 'cx', 'parameters': [{'date': '2020-07-16T09:04:01+00:00', 'name': 'gate_error', 'unit': '', 'value': 0.012553985891481378}, {'date': '2020-07-16T09:31:10+00:00', 'name': 'gate_length', 'unit': 'ns', 'value': 632.8888888888888}]}, {'qubits': [11, 12], 'gate': 'cx', 'parameters': [{'date': '2020-07-16T09:06:41+00:00', 'name': 'gate_error', 'unit': '', 'value': 0.011692145852912533}, {'date': '2020-07-16T09:31:10+00:00', 'name': 'gate_length', 'unit': 'ns', 'value': 334.22222222222223}]}, {'qubits': [11, 16], 'gate': 'cx', 'parameters': [{'date': '2020-07-16T09:17:18+00:00', 'name': 'gate_error', 'unit': '', 'value': 0.013321766081854591}, {'date': '2020-07-16T09:31:10+00:00', 'name': 'gate_length', 'unit': 'ns', 'value': 483.55555555555554}]}, {'qubits': [12, 7], 'gate': 'cx', 'parameters': [{'date': '2020-07-16T09:01:23+00:00', 'name': 'gate_error', 'unit': '', 'value': 0.00925819356391}, {'date': '2020-07-16T09:31:10+00:00', 'name': 'gate_length', 'unit': 'ns', 'value': 270.22222222222223}]}, {'qubits': [12, 11], 'gate': 'cx', 'parameters': [{'date': '2020-07-16T09:06:41+00:00', 'name': 'gate_error', 'unit': '', 'value': 0.011692145852912533}, {'date': '2020-07-16T09:31:10+00:00', 'name': 'gate_length', 'unit': 'ns', 'value': 298.66666666666663}]}, {'qubits': [12, 13], 'gate': 'cx', 'parameters': [{'date': '2020-07-16T09:09:09+00:00', 'name': 'gate_error', 'unit': '', 'value': 0.019049528920269537}, {'date': '2020-07-16T09:31:10+00:00', 'name': 'gate_length', 'unit': 'ns', 'value': 384}]}, {'qubits': [13, 12], 'gate': 'cx', 'parameters': [{'date': '2020-07-16T09:09:09+00:00', 'name': 'gate_error', 'unit': '', 'value': 0.019049528920269537}, {'date': '2020-07-16T09:31:10+00:00', 'name': 'gate_length', 'unit': 'ns', 'value': 419.55555555555554}]}, {'qubits': [13, 14], 'gate': 'cx', 'parameters': [{'date': '2020-07-16T09:11:45+00:00', 'name': 'gate_error', 'unit': '', 'value': 0.016950337835501955}, {'date': '2020-07-16T09:31:10+00:00', 'name': 'gate_length', 'unit': 'ns', 'value': 334.22222222222223}]}, {'qubits': [13, 18], 'gate': 'cx', 'parameters': [{'date': '2020-07-16T09:25:42+00:00', 'name': 'gate_error', 'unit': '', 'value': 0.014655837894107626}, {'date': '2020-07-16T09:31:10+00:00', 'name': 'gate_length', 'unit': 'ns', 'value': 440.88888888888886}]}, {'qubits': [14, 9], 'gate': 'cx', 'parameters': [{'date': '2020-07-16T09:14:41+00:00', 'name': 'gate_error', 'unit': '', 'value': 0.02662525781925798}, {'date': '2020-07-16T09:31:10+00:00', 'name': 'gate_length', 'unit': 'ns', 'value': 512}]}, {'qubits': [14, 13], 'gate': 'cx', 'parameters': [{'date': '2020-07-16T09:11:45+00:00', 'name': 'gate_error', 'unit': '', 'value': 0.016950337835501955}, {'date': '2020-07-16T09:31:10+00:00', 'name': 'gate_length', 'unit': 'ns', 'value': 369.77777777777777}]}, {'qubits': [15, 16], 'gate': 'cx', 'parameters': [{'date': '2020-07-16T09:20:21+00:00', 'name': 'gate_error', 'unit': '', 'value': 0.010992538678545272}, {'date': '2020-07-16T09:31:10+00:00', 'name': 'gate_length', 'unit': 'ns', 'value': 448}]}, {'qubits': [16, 11], 'gate': 'cx', 'parameters': [{'date': '2020-07-16T09:17:18+00:00', 'name': 'gate_error', 'unit': '', 'value': 0.013321766081854591}, {'date': '2020-07-16T09:31:10+00:00', 'name': 'gate_length', 'unit': 'ns', 'value': 448}]}, {'qubits': [16, 15], 'gate': 'cx', 'parameters': [{'date': '2020-07-16T09:20:21+00:00', 'name': 'gate_error', 'unit': '', 'value': 0.010992538678545272}, {'date': '2020-07-16T09:31:10+00:00', 'name': 'gate_length', 'unit': 'ns', 'value': 483.55555555555554}]}, {'qubits': [16, 17], 'gate': 'cx', 'parameters': [{'date': '2020-07-16T09:23:09+00:00', 'name': 'gate_error', 'unit': '', 'value': 0.020253725818279972}, {'date': '2020-07-16T09:31:10+00:00', 'name': 'gate_length', 'unit': 'ns', 'value': 376.88888888888886}]}, {'qubits': [17, 16], 'gate': 'cx', 'parameters': [{'date': '2020-07-16T09:23:09+00:00', 'name': 'gate_error', 'unit': '', 'value': 0.020253725818279972}, {'date': '2020-07-16T09:31:10+00:00', 'name': 'gate_length', 'unit': 'ns', 'value': 341.3333333333333}]}, {'qubits': [17, 18], 'gate': 'cx', 'parameters': [{'date': '2020-07-16T09:28:14+00:00', 'name': 'gate_error', 'unit': '', 'value': 0.02077093066951069}, {'date': '2020-07-16T09:31:10+00:00', 'name': 'gate_length', 'unit': 'ns', 'value': 782.2222222222222}]}, {'qubits': [18, 13], 'gate': 'cx', 'parameters': [{'date': '2020-07-16T09:25:42+00:00', 'name': 'gate_error', 'unit': '', 'value': 0.014655837894107626}, {'date': '2020-07-16T09:31:10+00:00', 'name': 'gate_length', 'unit': 'ns', 'value': 405.3333333333333}]}, {'qubits': [18, 17], 'gate': 'cx', 'parameters': [{'date': '2020-07-16T09:28:14+00:00', 'name': 'gate_error', 'unit': '', 'value': 0.02077093066951069}, {'date': '2020-07-16T09:31:10+00:00', 'name': 'gate_length', 'unit': 'ns', 'value': 746.6666666666666}]}, {'qubits': [18, 19], 'gate': 'cx', 'parameters': [{'date': '2020-07-16T09:31:10+00:00', 'name': 'gate_error', 'unit': '', 'value': 0.024496771215689023}, {'date': '2020-07-16T09:31:10+00:00', 'name': 'gate_length', 'unit': 'ns', 'value': 568.8888888888889}]}, {'qubits': [19, 18], 'gate': 'cx', 'parameters': [{'date': '2020-07-16T09:31:10+00:00', 'name': 'gate_error', 'unit': '', 'value': 0.024496771215689023}, {'date': '2020-07-16T09:31:10+00:00', 'name': 'gate_length', 'unit': 'ns', 'value': 533.3333333333333}]}], 'general': []}\n"
     ]
    }
   ],
   "source": [
    "from qiskit.test.mock.backends import FakeBoeblingen\n",
    "backend=FakeBoeblingen()\n",
    "print(backend.properties().to_dict())"
   ]
  },
  {
   "cell_type": "code",
   "execution_count": null,
   "metadata": {},
   "outputs": [],
   "source": []
  }
 ],
 "metadata": {
  "kernelspec": {
   "display_name": "Python 3",
   "language": "python",
   "name": "python3"
  },
  "language_info": {
   "codemirror_mode": {
    "name": "ipython",
    "version": 3
   },
   "file_extension": ".py",
   "mimetype": "text/x-python",
   "name": "python",
   "nbconvert_exporter": "python",
   "pygments_lexer": "ipython3",
   "version": "3.7.4"
  }
 },
 "nbformat": 4,
 "nbformat_minor": 2
}
