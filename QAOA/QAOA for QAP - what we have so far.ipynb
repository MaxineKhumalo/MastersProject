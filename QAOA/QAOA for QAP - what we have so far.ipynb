{
 "cells": [
  {
   "cell_type": "markdown",
   "metadata": {},
   "source": [
    "# Solving the Quadratic Assignment Problem (QAP) using QAOA"
   ]
  },
  {
   "cell_type": "markdown",
   "metadata": {},
   "source": [
    "There are three implementation methods we have tried. The first is identical to our VQE implementation but without a variational form. The second uses MinimumEigenOptimiser. The third uses RecursiveMinimumEigenOptimiser. Unfortunately , even with high maxiter values on multiple classical optimisers with varied p values, we have had no feasible solutions. For this notebook each example will use one set of parameters just to visualise the approach."
   ]
  },
  {
   "cell_type": "markdown",
   "metadata": {},
   "source": [
    "The goal of this notebook was to acheive good quality feasible solutions on the Aer backends such that an optimal point is used that can become the initial point when the same instance is run on the quantum devices. This was the approach attempted for VQE."
   ]
  },
  {
   "cell_type": "code",
   "execution_count": 1,
   "metadata": {},
   "outputs": [],
   "source": [
    "#Initialisation cell\n",
    "from docplex.mp.model import Model\n",
    "\n",
    "from qiskit import BasicAer, Aer\n",
    "from qiskit.aqua.algorithms import VQE, ExactEigensolver,NumPyEigensolver,QAOA,NumPyMinimumEigensolver\n",
    "from qiskit.aqua.components.optimizers import SPSA, COBYLA,ADAM, L_BFGS_B\n",
    "from qiskit.aqua import QuantumInstance\n",
    "\n",
    "from qiskit.optimization import QuadraticProgram\n",
    "from qiskit.optimization.applications.ising import docplex\n",
    "from qiskit.optimization.algorithms import MinimumEigenOptimizer,RecursiveMinimumEigenOptimizer\n",
    "\n",
    "# setup aqua logging\n",
    "import logging\n",
    "from qiskit.aqua import set_qiskit_aqua_logging\n",
    "\n",
    "import numpy as np\n",
    "import pandas as pd\n",
    "\n",
    "from qiskit.providers.aer import QasmSimulator"
   ]
  },
  {
   "cell_type": "markdown",
   "metadata": {},
   "source": [
    "### QAP setup"
   ]
  },
  {
   "cell_type": "code",
   "execution_count": 2,
   "metadata": {},
   "outputs": [],
   "source": [
    "def CSVtoNumpyArray(rawdata):\n",
    "    \"\"\"\n",
    "    Input: \n",
    "    rawdata = a csv file (insert name as a string)\n",
    "\n",
    "    Output:\n",
    "    two numpy matrices in a tuple\n",
    "    \"\"\"\n",
    "    data = pd.read_csv(rawdata)  #Reads the data in as a pandas object\n",
    "    c = data.columns\n",
    "    column = int(c[0])\n",
    "    final_data1 = data.iloc[:column,:].values  #Sets data into a series of numpy arrays of strings\n",
    "    final_data2 = data.iloc[column:,:].values  #1 is for the first matrix(loc) and 2 is for the second(flow)\n",
    "    \n",
    "\n",
    "    #Forms the matrix as a numpy array (easier to work with) instead of an list of lists of strings\n",
    "    def string_to_integers(final_data):\n",
    "        matrix = []\n",
    "        for j in range(column):\n",
    "            string = final_data[j][0]\n",
    "            string2 = string.split(\" \")\n",
    "            emptyarray = []\n",
    "            for i in string2:\n",
    "                if i != '':\n",
    "                    emptyarray.append(int(i))\n",
    "            matrix.append(emptyarray)\n",
    "        npmatrix = np.array(matrix) \n",
    "        return npmatrix\n",
    "    return string_to_integers(final_data1),string_to_integers(final_data2)"
   ]
  },
  {
   "cell_type": "code",
   "execution_count": 3,
   "metadata": {},
   "outputs": [],
   "source": [
    "def qap_value(z, MatrixLoc, MatrixFlow):\n",
    "    \"\"\"Compute the TSP value of a solution.\n",
    "    Args:\n",
    "        z (list[int]): list of allocations\n",
    "        MatrixLoc (numpy array): matrix of distances\n",
    "        MatrixFlow (numpy array): matrix of flow\n",
    "    Returns:\n",
    "        float: value of the QAP\n",
    "    \"\"\"\n",
    "    matrix_length = len(MatrixLoc)\n",
    "    x = np.reshape(z, (matrix_length,matrix_length))\n",
    "    \n",
    "    total = 0\n",
    "    for i in range(matrix_length):\n",
    "        for j in range(matrix_length):\n",
    "            for k in range(matrix_length):\n",
    "                for p in range(matrix_length):\n",
    "                        total += MatrixLoc[i,j]* MatrixFlow[k,p]*x[i,k]*x[j,p]\n",
    "    \n",
    "    return total"
   ]
  },
  {
   "cell_type": "markdown",
   "metadata": {},
   "source": [
    "### Feasibility functions"
   ]
  },
  {
   "cell_type": "code",
   "execution_count": 4,
   "metadata": {},
   "outputs": [],
   "source": [
    "def qap_feasible(x):\n",
    "    \"\"\"Check whether a solution is feasible or not.\n",
    "\n",
    "    Args:\n",
    "        x (numpy.ndarray) : binary string as numpy array.\n",
    "\n",
    "    Returns:\n",
    "        bool: feasible or not.\n",
    "    \"\"\"\n",
    "    n = int(np.sqrt(len(x)))\n",
    "    y = np.reshape(x, (n,n))\n",
    "   \n",
    "    for i in range(n):\n",
    "        if sum(y[i, p] for p in range(n)) != 1:\n",
    "            return False\n",
    "    for p__ in range(n):\n",
    "        if sum(y[i, p__] for i in range(n)) != 1:\n",
    "            return False\n",
    "    return True"
   ]
  },
  {
   "cell_type": "code",
   "execution_count": 5,
   "metadata": {},
   "outputs": [],
   "source": [
    "def choose_best_feasible(eigenstates):\n",
    "    \"\"\"\n",
    "    Input:\n",
    "    eigenstates = dictionary\n",
    "    \n",
    "    Output:\n",
    "    feasible binary 1D numpyarray\n",
    "    probability of this answer\n",
    "    \n",
    "    \"\"\"\n",
    "    bestinarray = sorted(eigenstates.items(), key=lambda item: item[1])[::-1]\n",
    "    feasible = False\n",
    "    counter = 0\n",
    "    total = sum(eigenstates.values())\n",
    "    \n",
    "    feasible=False\n",
    "    while feasible==False and counter<len(bestinarray):\n",
    "        #string to array\n",
    "        bestasint = np.array([0])\n",
    "        for i in bestinarray[counter][0]:\n",
    "            bestasint = np.hstack((bestasint, int(i)))\n",
    "        feasible = qap_feasible(bestasint[1:])\n",
    "        frequency = bestinarray[counter][1]\n",
    "        counter += 1\n",
    "        \n",
    "    if feasible == False:\n",
    "        return feasible\n",
    "    else:\n",
    "        return bestasint[1:], frequency/total"
   ]
  },
  {
   "cell_type": "markdown",
   "metadata": {},
   "source": [
    "## 1. QAOA like VQE"
   ]
  },
  {
   "cell_type": "code",
   "execution_count": 6,
   "metadata": {},
   "outputs": [],
   "source": [
    "def testing_quantum1(ins, maximum_iterations, p_value):\n",
    "    \"\"\"\n",
    "    Input:\n",
    "    ins: name of instance (str)\n",
    "    maximum_iterations: maxiter for classical optimiser (int)\n",
    "    p_value: for QAOA(int)\n",
    "    \n",
    "    Output:\n",
    "    outmatrix : [soln,result time,eigenvector]\n",
    "    \"\"\"\n",
    "    \n",
    "    #get matrix\n",
    "    datamatrix = CSVtoNumpyArray(ins)\n",
    "    MatrixLoc = datamatrix[0]\n",
    "    MatrixFlow = datamatrix[1]\n",
    "    n = len(MatrixLoc)\n",
    "\n",
    "    # Create an instance of a model and variables.\n",
    "    thename = \"qap\" + str(n)\n",
    "    mdl = Model(name=thename)\n",
    "    x = {(i,p): mdl.binary_var(name='x_{0}_{1}'.format(i,p)) for i in range(n) for p in range(n)}\n",
    "\n",
    "    # Object function\n",
    "    qap_func = mdl.sum(MatrixLoc[i,j]* MatrixFlow[k,p]*x[i,k]*x[j,p] for i in range(n) for j in range(n) for p in range(n) for k in range(n))\n",
    "    mdl.minimize(qap_func)\n",
    "\n",
    "    # Constraints\n",
    "    for i in range(n):\n",
    "        mdl.add_constraint(mdl.sum(x[(i,p)] for p in range(n)) == 1)\n",
    "    for p in range(n):\n",
    "        mdl.add_constraint(mdl.sum(x[(i,p)] for i in range(n)) == 1)\n",
    "    print(mdl.export_to_string())\n",
    "    qubitOp_docplex, offset_docplex = docplex.get_operator(mdl) #potential error\n",
    "\n",
    "    #QAOA\n",
    "    machinesolutions = []\n",
    "    seed = 10598\n",
    "    spsa = SPSA(maxiter=maximum_iterations)\n",
    "    sim = Aer.get_backend('qasm_simulator')\n",
    "    #sim = QasmSimulator()\n",
    "    backend_options = {\"method\": \"matrix_product_state\"}\n",
    "    quantum_instance = QuantumInstance(backend=sim,seed_simulator=seed,\n",
    "                                       seed_transpiler=seed, skip_qobj_validation = False, shots = 1,\n",
    "                                       backend_options=backend_options)\n",
    "    \n",
    "    #THE UNIQUE STUFF-----------------------------------------------\n",
    "    qaoa = QAOA(qubitOp_docplex,optimizer=spsa, p=p_value, quantum_instance=quantum_instance,include_custom=True)\n",
    "    result = qaoa.run(backend=Aer.get_backend('qasm_simulator'))\n",
    "    \n",
    "    print('QAOA vector:', result['eigenstate'])\n",
    "    print('QAOA time:', result['optimizer_time'])\n",
    "    print('QAOA QAP objective:', result['eigenvalue'] + offset_docplex)\n",
    "    x = choose_best_feasible(result['eigenstate'])\n",
    "    print(x)\n",
    "    \n",
    "    if x == False:\n",
    "        soln = 'No solution' #note fails if false\n",
    "    else:\n",
    "        soln = qap_value(x[0],MatrixFlow,MatrixLoc) \n",
    "    machinesolutions.append([soln,result['optimizer_time'],x])\n",
    "    #--------------------------------------------------------------\n",
    "    \n",
    "    print(machinesolutions)\n",
    "    return machinesolutions\n",
    "    "
   ]
  },
  {
   "cell_type": "code",
   "execution_count": 7,
   "metadata": {},
   "outputs": [
    {
     "name": "stdout",
     "output_type": "stream",
     "text": [
      "\\ This file has been generated by DOcplex\n",
      "\\ ENCODING=ISO-8859-1\n",
      "\\Problem name: qap3\n",
      "\n",
      "Minimize\n",
      " obj: [ 4704 x_0_0*x_1_1 + 3444 x_0_0*x_1_2 + 21280 x_0_0*x_2_1\n",
      "      + 15580 x_0_0*x_2_2 + 4704 x_0_1*x_1_0 + 504 x_0_1*x_1_2\n",
      "      + 21280 x_0_1*x_2_0 + 2280 x_0_1*x_2_2 + 3444 x_0_2*x_1_0\n",
      "      + 504 x_0_2*x_1_1 + 15580 x_0_2*x_2_0 + 2280 x_0_2*x_2_1\n",
      "      + 18368 x_1_0*x_2_1 + 13448 x_1_0*x_2_2 + 18368 x_1_1*x_2_0\n",
      "      + 1968 x_1_1*x_2_2 + 13448 x_1_2*x_2_0 + 1968 x_1_2*x_2_1 ]/2\n",
      "Subject To\n",
      " c1: x_0_0 + x_0_1 + x_0_2 = 1\n",
      " c2: x_1_0 + x_1_1 + x_1_2 = 1\n",
      " c3: x_2_0 + x_2_1 + x_2_2 = 1\n",
      " c4: x_0_0 + x_1_0 + x_2_0 = 1\n",
      " c5: x_0_1 + x_1_1 + x_2_1 = 1\n",
      " c6: x_0_2 + x_1_2 + x_2_2 = 1\n",
      "\n",
      "Bounds\n",
      " 0 <= x_0_0 <= 1\n",
      " 0 <= x_0_1 <= 1\n",
      " 0 <= x_0_2 <= 1\n",
      " 0 <= x_1_0 <= 1\n",
      " 0 <= x_1_1 <= 1\n",
      " 0 <= x_1_2 <= 1\n",
      " 0 <= x_2_0 <= 1\n",
      " 0 <= x_2_1 <= 1\n",
      " 0 <= x_2_2 <= 1\n",
      "\n",
      "Binaries\n",
      " x_0_0 x_0_1 x_0_2 x_1_0 x_1_1 x_1_2 x_2_0 x_2_1 x_2_2\n",
      "End\n",
      "\n",
      "QAOA vector: {'111111011': 1}\n",
      "QAOA time: 623.2947103977203\n",
      "QAOA QAP objective: (504927.16916561406+0j)\n",
      "False\n",
      "[['No solution', 623.2947103977203, False]]\n"
     ]
    }
   ],
   "source": [
    "ins = \"made3.csv\"\n",
    "maximum_iterations= 1000\n",
    "p_value= 5\n",
    "ans1 = testing_quantum1(ins, maximum_iterations, p_value)"
   ]
  },
  {
   "cell_type": "markdown",
   "metadata": {},
   "source": [
    "## 2. QAOA with MinimumEigenOptimiser"
   ]
  },
  {
   "cell_type": "code",
   "execution_count": 8,
   "metadata": {},
   "outputs": [],
   "source": [
    "def testing_quantum2(ins, maximum_iterations, p_value):\n",
    "    \"\"\"\n",
    "    Input:\n",
    "    ins: name of instance (str)\n",
    "    maximum_iterations: maxiter for classical optimiser (int)\n",
    "    p_value: for QAOA(int)\n",
    "    \n",
    "    Output:\n",
    "    outmatrix : [soln,eigenvector]\n",
    "    \"\"\"\n",
    "    \n",
    "    #get matrix\n",
    "    datamatrix = CSVtoNumpyArray(ins)\n",
    "    MatrixLoc = datamatrix[0]\n",
    "    MatrixFlow = datamatrix[1]\n",
    "    n = len(MatrixLoc)\n",
    "\n",
    "    # Create an instance of a model and variables.\n",
    "    thename = \"qap\" + str(n)\n",
    "    mdl = Model(name=thename)\n",
    "    x = {(i,p): mdl.binary_var(name='x_{0}_{1}'.format(i,p)) for i in range(n) for p in range(n)}\n",
    "\n",
    "    # Object function\n",
    "    qap_func = mdl.sum(MatrixLoc[i,j]* MatrixFlow[k,p]*x[i,k]*x[j,p] for i in range(n) for j in range(n) for p in range(n) for k in range(n))\n",
    "    mdl.minimize(qap_func)\n",
    "\n",
    "    # Constraints\n",
    "    for i in range(n):\n",
    "        mdl.add_constraint(mdl.sum(x[(i,p)] for p in range(n)) == 1)\n",
    "    for p in range(n):\n",
    "        mdl.add_constraint(mdl.sum(x[(i,p)] for i in range(n)) == 1)\n",
    "    qubitOp_docplex, offset_docplex = docplex.get_operator(mdl) #potential error\n",
    "\n",
    "    #QAOA\n",
    "    machinesolutions = []\n",
    "    seed = 10598\n",
    "    spsa = SPSA(maxiter=maximum_iterations)\n",
    "    sim = Aer.get_backend('qasm_simulator')\n",
    "    #sim = QasmSimulator()\n",
    "    backend_options = {\"method\": \"matrix_product_state\"}\n",
    "    quantum_instance = QuantumInstance(backend=sim,seed_simulator=seed,\n",
    "                                       seed_transpiler=seed, skip_qobj_validation = False, shots = 1,\n",
    "                                       backend_options=backend_options)\n",
    "    \n",
    "    #THE UNIQUE STUFF------------------------------------------------------------\n",
    "    mod = QuadraticProgram()\n",
    "    mod.from_docplex(mdl)\n",
    "    print(mod.export_as_lp_string())\n",
    "    qaoa_mes = QAOA(quantum_instance=quantum_instance, include_custom=True, optimizer=spsa,p=p_value)\n",
    "    qaoa = MinimumEigenOptimizer(qaoa_mes)\n",
    "    qaoa_result = qaoa.solve(mod)\n",
    "    print(qaoa_result)\n",
    "    print('QAOA vector:', qaoa_result.x)\n",
    "    x = qap_feasible(qaoa_result.x)\n",
    "    print(x)\n",
    "    \n",
    "    if x == False:\n",
    "        soln = 'No solution' #note fails if false\n",
    "    else:\n",
    "        soln = qap_value(x,MatrixFlow,MatrixLoc) #note fails if false\n",
    "    machinesolutions.append([soln,x])\n",
    "    #--------------------------------------------------------------\n",
    "    \n",
    "    print(machinesolutions)\n",
    "    return machinesolutions"
   ]
  },
  {
   "cell_type": "code",
   "execution_count": 9,
   "metadata": {},
   "outputs": [
    {
     "name": "stdout",
     "output_type": "stream",
     "text": [
      "\\ This file has been generated by DOcplex\n",
      "\\ ENCODING=ISO-8859-1\n",
      "\\Problem name: qap3\n",
      "\n",
      "Minimize\n",
      " obj: [ 4704 x_0_0*x_1_1 + 3444 x_0_0*x_1_2 + 21280 x_0_0*x_2_1\n",
      "      + 15580 x_0_0*x_2_2 + 4704 x_0_1*x_1_0 + 504 x_0_1*x_1_2\n",
      "      + 21280 x_0_1*x_2_0 + 2280 x_0_1*x_2_2 + 3444 x_0_2*x_1_0\n",
      "      + 504 x_0_2*x_1_1 + 15580 x_0_2*x_2_0 + 2280 x_0_2*x_2_1\n",
      "      + 18368 x_1_0*x_2_1 + 13448 x_1_0*x_2_2 + 18368 x_1_1*x_2_0\n",
      "      + 1968 x_1_1*x_2_2 + 13448 x_1_2*x_2_0 + 1968 x_1_2*x_2_1 ]/2\n",
      "Subject To\n",
      " c0: x_0_0 + x_0_1 + x_0_2 = 1\n",
      " c1: x_1_0 + x_1_1 + x_1_2 = 1\n",
      " c2: x_2_0 + x_2_1 + x_2_2 = 1\n",
      " c3: x_0_0 + x_1_0 + x_2_0 = 1\n",
      " c4: x_0_1 + x_1_1 + x_2_1 = 1\n",
      " c5: x_0_2 + x_1_2 + x_2_2 = 1\n",
      "\n",
      "Bounds\n",
      " 0 <= x_0_0 <= 1\n",
      " 0 <= x_0_1 <= 1\n",
      " 0 <= x_0_2 <= 1\n",
      " 0 <= x_1_0 <= 1\n",
      " 0 <= x_1_1 <= 1\n",
      " 0 <= x_1_2 <= 1\n",
      " 0 <= x_2_0 <= 1\n",
      " 0 <= x_2_1 <= 1\n",
      " 0 <= x_2_2 <= 1\n",
      "\n",
      "Binaries\n",
      " x_0_0 x_0_1 x_0_2 x_1_0 x_1_1 x_1_2 x_2_0 x_2_1 x_2_2\n",
      "End\n",
      "\n"
     ]
    },
    {
     "name": "stderr",
     "output_type": "stream",
     "text": [
      "constraint c0 is infeasible due to substitution\n",
      "constraint c1 is infeasible due to substitution\n",
      "constraint c2 is infeasible due to substitution\n",
      "constraint c3 is infeasible due to substitution\n",
      "constraint c4 is infeasible due to substitution\n",
      "constraint c5 is infeasible due to substitution\n"
     ]
    },
    {
     "name": "stdout",
     "output_type": "stream",
     "text": [
      "optimal function value: 47238.0\n",
      "optimal value: [1. 1. 1. 1. 1. 1. 0. 1. 1.]\n",
      "status: SUCCESS\n",
      "QAOA vector: [1. 1. 1. 1. 1. 1. 0. 1. 1.]\n",
      "False\n",
      "[['No solution', False]]\n"
     ]
    }
   ],
   "source": [
    "ins = \"made3.csv\"\n",
    "maximum_iterations= 1000\n",
    "p_value= 5\n",
    "ans1 = testing_quantum2(ins, maximum_iterations, p_value)"
   ]
  },
  {
   "cell_type": "markdown",
   "metadata": {},
   "source": [
    "## 3. QAOA with RecursiveMinimumEigenOptimiser"
   ]
  },
  {
   "cell_type": "code",
   "execution_count": 10,
   "metadata": {},
   "outputs": [],
   "source": [
    "def testing_quantum3(ins, maximum_iterations, p_value):\n",
    "    \"\"\"\n",
    "    Input:\n",
    "    ins: name of instance (str)\n",
    "    maximum_iterations: maxiter for classical optimiser (int)\n",
    "    p_value: for QAOA(int)\n",
    "    \n",
    "    Output:\n",
    "    outmatrix : [soln,eigenvector]\n",
    "    \"\"\"\n",
    "    \n",
    "    #get matrix\n",
    "    datamatrix = CSVtoNumpyArray(ins)\n",
    "    MatrixLoc = datamatrix[0]\n",
    "    MatrixFlow = datamatrix[1]\n",
    "    n = len(MatrixLoc)\n",
    "\n",
    "    # Create an instance of a model and variables.\n",
    "    thename = \"qap\" + str(n)\n",
    "    mdl = Model(name=thename)\n",
    "    x = {(i,p): mdl.binary_var(name='x_{0}_{1}'.format(i,p)) for i in range(n) for p in range(n)}\n",
    "\n",
    "    # Object function\n",
    "    qap_func = mdl.sum(MatrixLoc[i,j]* MatrixFlow[k,p]*x[i,k]*x[j,p] \n",
    "                       for i in range(n) for j in range(n) for p in range(n) for k in range(n))\n",
    "    mdl.minimize(qap_func)\n",
    "\n",
    "    # Constraints\n",
    "    for i in range(n):\n",
    "        mdl.add_constraint(mdl.sum(x[(i,p)] for p in range(n)) == 1)\n",
    "    for p in range(n):\n",
    "        mdl.add_constraint(mdl.sum(x[(i,p)] for i in range(n)) == 1)\n",
    "    qubitOp_docplex, offset_docplex = docplex.get_operator(mdl) #potential error\n",
    "\n",
    "    #QAOA\n",
    "    seed = 10598\n",
    "    mod = QuadraticProgram()\n",
    "    mod.from_docplex(mdl)\n",
    "    print(mod.export_as_lp_string())\n",
    "    spsa = SPSA(maxiter=maximum_iterations)\n",
    "    sim = Aer.get_backend('qasm_simulator')\n",
    "    #sim = QasmSimulator()\n",
    "    backend_options = {\"method\": \"matrix_product_state\"}\n",
    "    quantum_instance = QuantumInstance(backend=sim,seed_simulator=seed, seed_transpiler=seed, skip_qobj_validation = False, \n",
    "                                       shots = 1,backend_options=backend_options)\n",
    "    qaoa_mes = QAOA(quantum_instance=quantum_instance, include_custom=True, optimizer=spsa,p=p_value)\n",
    "    qaoa = MinimumEigenOptimizer(qaoa_mes)\n",
    "    \n",
    "    #THE UNIQUE PART(unique from 2)---------------------------------------------------------------------------------------\n",
    "    rmachinesolutions = []\n",
    "    exact_mes = NumPyMinimumEigensolver()\n",
    "    exact = MinimumEigenOptimizer(exact_mes) \n",
    "    rqaoa = RecursiveMinimumEigenOptimizer(min_eigen_optimizer=qaoa, min_num_vars=1, min_num_vars_optimizer=exact)\n",
    "    rqaoa_result = rqaoa.solve(mod)\n",
    "    rx = qap_feasible(rqaoa_result.x)\n",
    "    print(rx)\n",
    "    if rx == False:\n",
    "        rsoln = 'No solution' #note fails if false\n",
    "    else:\n",
    "        rsoln = qap_value(rx,MatrixFlow,MatrixLoc) #note fails if false\n",
    "    rmachinesolutions.append([rsoln,rx,i])\n",
    "    print(rmachinesolutions)\n",
    "    return rmachinesolutions"
   ]
  },
  {
   "cell_type": "code",
   "execution_count": 11,
   "metadata": {},
   "outputs": [
    {
     "name": "stdout",
     "output_type": "stream",
     "text": [
      "\\ This file has been generated by DOcplex\n",
      "\\ ENCODING=ISO-8859-1\n",
      "\\Problem name: qap3\n",
      "\n",
      "Minimize\n",
      " obj: [ 4704 x_0_0*x_1_1 + 3444 x_0_0*x_1_2 + 21280 x_0_0*x_2_1\n",
      "      + 15580 x_0_0*x_2_2 + 4704 x_0_1*x_1_0 + 504 x_0_1*x_1_2\n",
      "      + 21280 x_0_1*x_2_0 + 2280 x_0_1*x_2_2 + 3444 x_0_2*x_1_0\n",
      "      + 504 x_0_2*x_1_1 + 15580 x_0_2*x_2_0 + 2280 x_0_2*x_2_1\n",
      "      + 18368 x_1_0*x_2_1 + 13448 x_1_0*x_2_2 + 18368 x_1_1*x_2_0\n",
      "      + 1968 x_1_1*x_2_2 + 13448 x_1_2*x_2_0 + 1968 x_1_2*x_2_1 ]/2\n",
      "Subject To\n",
      " c0: x_0_0 + x_0_1 + x_0_2 = 1\n",
      " c1: x_1_0 + x_1_1 + x_1_2 = 1\n",
      " c2: x_2_0 + x_2_1 + x_2_2 = 1\n",
      " c3: x_0_0 + x_1_0 + x_2_0 = 1\n",
      " c4: x_0_1 + x_1_1 + x_2_1 = 1\n",
      " c5: x_0_2 + x_1_2 + x_2_2 = 1\n",
      "\n",
      "Bounds\n",
      " 0 <= x_0_0 <= 1\n",
      " 0 <= x_0_1 <= 1\n",
      " 0 <= x_0_2 <= 1\n",
      " 0 <= x_1_0 <= 1\n",
      " 0 <= x_1_1 <= 1\n",
      " 0 <= x_1_2 <= 1\n",
      " 0 <= x_2_0 <= 1\n",
      " 0 <= x_2_1 <= 1\n",
      " 0 <= x_2_2 <= 1\n",
      "\n",
      "Binaries\n",
      " x_0_0 x_0_1 x_0_2 x_1_0 x_1_1 x_1_2 x_2_0 x_2_1 x_2_2\n",
      "End\n",
      "\n"
     ]
    },
    {
     "name": "stderr",
     "output_type": "stream",
     "text": [
      "constraint c0 is infeasible due to substitution\n",
      "constraint c1 is infeasible due to substitution\n",
      "constraint c4 is infeasible due to substitution\n",
      "constraint c5 is infeasible due to substitution\n"
     ]
    },
    {
     "name": "stdout",
     "output_type": "stream",
     "text": [
      "False\n",
      "[['No solution', False, 2]]\n"
     ]
    }
   ],
   "source": [
    "ins = \"made3.csv\"\n",
    "maximum_iterations= 1000\n",
    "p_value= 5\n",
    "ans1 = testing_quantum3(ins, maximum_iterations, p_value)"
   ]
  },
  {
   "cell_type": "markdown",
   "metadata": {},
   "source": [
    "## PS: Transpiler change"
   ]
  },
  {
   "cell_type": "markdown",
   "metadata": {},
   "source": [
    "Another adjustment we made was to use:                                   "
   ]
  },
  {
   "cell_type": "code",
   "execution_count": 14,
   "metadata": {},
   "outputs": [],
   "source": [
    "seed = 10598\n",
    "sim = QasmSimulator(\"matrix_product_state\")\n",
    "quantum_instance = QuantumInstance(backend=sim,seed_simulator=seed, seed_transpiler=seed, skip_qobj_validation = False, shots = 1)"
   ]
  },
  {
   "cell_type": "markdown",
   "metadata": {},
   "source": [
    "This was faster but didn't change feasibility"
   ]
  },
  {
   "cell_type": "markdown",
   "metadata": {},
   "source": [
    "Please note we used an older version of qiskit in this notebook. An update did not change the quality of our results."
   ]
  },
  {
   "cell_type": "code",
   "execution_count": 12,
   "metadata": {},
   "outputs": [
    {
     "data": {
      "text/html": [
       "<h3>Version Information</h3><table><tr><th>Qiskit Software</th><th>Version</th></tr><tr><td>Qiskit</td><td>0.20.0</td></tr><tr><td>Terra</td><td>0.15.1</td></tr><tr><td>Aer</td><td>0.6.1</td></tr><tr><td>Ignis</td><td>0.4.0</td></tr><tr><td>Aqua</td><td>0.7.5</td></tr><tr><td>IBM Q Provider</td><td>0.8.0</td></tr><tr><th>System information</th></tr><tr><td>Python</td><td>3.7.4 (default, Aug  9 2019, 18:34:13) [MSC v.1915 64 bit (AMD64)]</td></tr><tr><td>OS</td><td>Windows</td></tr><tr><td>CPUs</td><td>2</td></tr><tr><td>Memory (Gb)</td><td>7.875308990478516</td></tr><tr><td colspan='2'>Wed Jan 27 19:03:06 2021 South Africa Standard Time</td></tr></table>"
      ],
      "text/plain": [
       "<IPython.core.display.HTML object>"
      ]
     },
     "metadata": {},
     "output_type": "display_data"
    }
   ],
   "source": [
    "import qiskit.tools.jupyter\n",
    "%qiskit_version_table"
   ]
  },
  {
   "cell_type": "code",
   "execution_count": null,
   "metadata": {},
   "outputs": [],
   "source": []
  }
 ],
 "metadata": {
  "kernelspec": {
   "display_name": "Python 3",
   "language": "python",
   "name": "python3"
  },
  "language_info": {
   "codemirror_mode": {
    "name": "ipython",
    "version": 3
   },
   "file_extension": ".py",
   "mimetype": "text/x-python",
   "name": "python",
   "nbconvert_exporter": "python",
   "pygments_lexer": "ipython3",
   "version": "3.7.4"
  }
 },
 "nbformat": 4,
 "nbformat_minor": 2
}
